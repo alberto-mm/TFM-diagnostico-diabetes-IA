{
 "cells": [
  {
   "cell_type": "markdown",
   "id": "e6873ff1",
   "metadata": {},
   "source": [
    "### 0. Importar librerías"
   ]
  },
  {
   "cell_type": "code",
   "execution_count": 1,
   "id": "1b4341cc",
   "metadata": {},
   "outputs": [],
   "source": [
    "import pandas as pd\n",
    "import numpy as np\n",
    "\n",
    "# Se define la semilla para que cuando se vuelva a ejecutar el split train-test\n",
    "# los datos que contiene cada conjunto sean los mismos y para que la inicialización\n",
    "# del modelo creado sea la misma\n",
    "semilla = 1234"
   ]
  },
  {
   "cell_type": "markdown",
   "id": "6011d883",
   "metadata": {},
   "source": [
    "---\n",
    "\n",
    "# 1. Cargar el dataset"
   ]
  },
  {
   "cell_type": "code",
   "execution_count": 2,
   "id": "85764757",
   "metadata": {},
   "outputs": [
    {
     "data": {
      "text/html": [
       "<div>\n",
       "<style scoped>\n",
       "    .dataframe tbody tr th:only-of-type {\n",
       "        vertical-align: middle;\n",
       "    }\n",
       "\n",
       "    .dataframe tbody tr th {\n",
       "        vertical-align: top;\n",
       "    }\n",
       "\n",
       "    .dataframe thead th {\n",
       "        text-align: right;\n",
       "    }\n",
       "</style>\n",
       "<table border=\"1\" class=\"dataframe\">\n",
       "  <thead>\n",
       "    <tr style=\"text-align: right;\">\n",
       "      <th></th>\n",
       "      <th>AF365</th>\n",
       "      <th>AF450</th>\n",
       "      <th>35 deg</th>\n",
       "      <th>42 deg</th>\n",
       "      <th>Grupo</th>\n",
       "    </tr>\n",
       "  </thead>\n",
       "  <tbody>\n",
       "    <tr>\n",
       "      <th>0</th>\n",
       "      <td>2.320158</td>\n",
       "      <td>1.229614</td>\n",
       "      <td>13.01</td>\n",
       "      <td>19.39</td>\n",
       "      <td>0</td>\n",
       "    </tr>\n",
       "    <tr>\n",
       "      <th>1</th>\n",
       "      <td>1.529274</td>\n",
       "      <td>0.616514</td>\n",
       "      <td>8.18</td>\n",
       "      <td>24.78</td>\n",
       "      <td>0</td>\n",
       "    </tr>\n",
       "    <tr>\n",
       "      <th>2</th>\n",
       "      <td>1.908257</td>\n",
       "      <td>0.955847</td>\n",
       "      <td>7.75</td>\n",
       "      <td>16.90</td>\n",
       "      <td>0</td>\n",
       "    </tr>\n",
       "    <tr>\n",
       "      <th>3</th>\n",
       "      <td>1.590625</td>\n",
       "      <td>1.018495</td>\n",
       "      <td>4.10</td>\n",
       "      <td>16.30</td>\n",
       "      <td>0</td>\n",
       "    </tr>\n",
       "    <tr>\n",
       "      <th>4</th>\n",
       "      <td>1.617071</td>\n",
       "      <td>1.242961</td>\n",
       "      <td>5.76</td>\n",
       "      <td>21.05</td>\n",
       "      <td>0</td>\n",
       "    </tr>\n",
       "    <tr>\n",
       "      <th>...</th>\n",
       "      <td>...</td>\n",
       "      <td>...</td>\n",
       "      <td>...</td>\n",
       "      <td>...</td>\n",
       "      <td>...</td>\n",
       "    </tr>\n",
       "    <tr>\n",
       "      <th>115</th>\n",
       "      <td>3.034884</td>\n",
       "      <td>2.051768</td>\n",
       "      <td>4.55</td>\n",
       "      <td>8.50</td>\n",
       "      <td>2</td>\n",
       "    </tr>\n",
       "    <tr>\n",
       "      <th>116</th>\n",
       "      <td>4.093525</td>\n",
       "      <td>3.037288</td>\n",
       "      <td>3.97</td>\n",
       "      <td>5.35</td>\n",
       "      <td>2</td>\n",
       "    </tr>\n",
       "    <tr>\n",
       "      <th>117</th>\n",
       "      <td>4.730000</td>\n",
       "      <td>3.040000</td>\n",
       "      <td>7.04</td>\n",
       "      <td>14.44</td>\n",
       "      <td>2</td>\n",
       "    </tr>\n",
       "    <tr>\n",
       "      <th>118</th>\n",
       "      <td>3.200000</td>\n",
       "      <td>2.360000</td>\n",
       "      <td>6.70</td>\n",
       "      <td>10.57</td>\n",
       "      <td>2</td>\n",
       "    </tr>\n",
       "    <tr>\n",
       "      <th>119</th>\n",
       "      <td>3.885714</td>\n",
       "      <td>2.403073</td>\n",
       "      <td>6.61</td>\n",
       "      <td>14.30</td>\n",
       "      <td>2</td>\n",
       "    </tr>\n",
       "  </tbody>\n",
       "</table>\n",
       "<p>120 rows × 5 columns</p>\n",
       "</div>"
      ],
      "text/plain": [
       "        AF365     AF450  35 deg  42 deg  Grupo\n",
       "0    2.320158  1.229614   13.01   19.39      0\n",
       "1    1.529274  0.616514    8.18   24.78      0\n",
       "2    1.908257  0.955847    7.75   16.90      0\n",
       "3    1.590625  1.018495    4.10   16.30      0\n",
       "4    1.617071  1.242961    5.76   21.05      0\n",
       "..        ...       ...     ...     ...    ...\n",
       "115  3.034884  2.051768    4.55    8.50      2\n",
       "116  4.093525  3.037288    3.97    5.35      2\n",
       "117  4.730000  3.040000    7.04   14.44      2\n",
       "118  3.200000  2.360000    6.70   10.57      2\n",
       "119  3.885714  2.403073    6.61   14.30      2\n",
       "\n",
       "[120 rows x 5 columns]"
      ]
     },
     "execution_count": 2,
     "metadata": {},
     "output_type": "execute_result"
    }
   ],
   "source": [
    "# Ruta del fichero\n",
    "path = 'datos/datos_filtrados.csv'\n",
    "\n",
    "# Cargar el dataset\n",
    "datos = pd.read_csv(path)\n",
    "\n",
    "# Al ser un dataset pequeño se muestra completo\n",
    "datos"
   ]
  },
  {
   "cell_type": "code",
   "execution_count": 3,
   "id": "effe4666",
   "metadata": {},
   "outputs": [
    {
     "data": {
      "text/plain": [
       "1    61\n",
       "0    46\n",
       "2    13\n",
       "Name: Grupo, dtype: int64"
      ]
     },
     "execution_count": 3,
     "metadata": {},
     "output_type": "execute_result"
    }
   ],
   "source": [
    "# Contar el número de instancias de cada grupo\n",
    "datos['Grupo'].value_counts()"
   ]
  },
  {
   "cell_type": "markdown",
   "id": "02f716f6",
   "metadata": {},
   "source": [
    "## Preparar conjuntos de entrenamiento (60%) y test (40%)"
   ]
  },
  {
   "cell_type": "code",
   "execution_count": 4,
   "id": "9fc8f7bc",
   "metadata": {},
   "outputs": [],
   "source": [
    "# Se separa la variable a predecir (Grupo)\n",
    "X = datos.drop('Grupo', axis=1)\n",
    "y = datos['Grupo']"
   ]
  },
  {
   "cell_type": "code",
   "execution_count": 5,
   "id": "793c7098",
   "metadata": {},
   "outputs": [],
   "source": [
    "# Importar librería de scikit-learn para separar los datos\n",
    "from sklearn.model_selection import train_test_split\n",
    "\n",
    "# Separar datos en conjunto de entrenamiento (60%) y test (40%) de manera estratificada\n",
    "X_train, X_test, y_train, y_test = train_test_split(X,\n",
    "                                                    y,\n",
    "                                                    test_size=0.4,\n",
    "                                                    shuffle=True,\n",
    "                                                    stratify=y,\n",
    "                                                    random_state=semilla)"
   ]
  },
  {
   "cell_type": "code",
   "execution_count": 6,
   "id": "34696ba5",
   "metadata": {},
   "outputs": [
    {
     "name": "stdout",
     "output_type": "stream",
     "text": [
      "Training Features Shape: (72, 4)\n",
      "Training Labels Shape: (72,)\n",
      "Testing Features Shape: (48, 4)\n",
      "Testing Labels Shape: (48,)\n"
     ]
    }
   ],
   "source": [
    "# Visualizar la dimensión de los datos separados\n",
    "print('Training Features Shape:', X_train.shape)\n",
    "print('Training Labels Shape:', y_train.shape)\n",
    "print('Testing Features Shape:', X_test.shape)\n",
    "print('Testing Labels Shape:', y_test.shape)"
   ]
  },
  {
   "cell_type": "code",
   "execution_count": 7,
   "id": "4f900cab",
   "metadata": {},
   "outputs": [
    {
     "data": {
      "text/plain": [
       "1    36\n",
       "0    28\n",
       "2     8\n",
       "Name: Grupo, dtype: int64"
      ]
     },
     "execution_count": 7,
     "metadata": {},
     "output_type": "execute_result"
    }
   ],
   "source": [
    "# Distribución de los grupos en el conjunto de entrenamiento\n",
    "y_train.value_counts()"
   ]
  },
  {
   "cell_type": "code",
   "execution_count": 8,
   "id": "5c1cd37d",
   "metadata": {},
   "outputs": [
    {
     "data": {
      "text/plain": [
       "1    0.500000\n",
       "0    0.388889\n",
       "2    0.111111\n",
       "Name: Grupo, dtype: float64"
      ]
     },
     "execution_count": 8,
     "metadata": {},
     "output_type": "execute_result"
    }
   ],
   "source": [
    "# Valores normalizados\n",
    "y_train.value_counts(normalize=True)"
   ]
  },
  {
   "cell_type": "code",
   "execution_count": 9,
   "id": "09a26af2",
   "metadata": {},
   "outputs": [
    {
     "data": {
      "text/plain": [
       "1    25\n",
       "0    18\n",
       "2     5\n",
       "Name: Grupo, dtype: int64"
      ]
     },
     "execution_count": 9,
     "metadata": {},
     "output_type": "execute_result"
    }
   ],
   "source": [
    "# Distribución de los grupos en el conjunto de test\n",
    "y_test.value_counts()"
   ]
  },
  {
   "cell_type": "code",
   "execution_count": 10,
   "id": "2f3bd577",
   "metadata": {},
   "outputs": [
    {
     "data": {
      "text/plain": [
       "1    0.520833\n",
       "0    0.375000\n",
       "2    0.104167\n",
       "Name: Grupo, dtype: float64"
      ]
     },
     "execution_count": 10,
     "metadata": {},
     "output_type": "execute_result"
    }
   ],
   "source": [
    "# Valores normalizados\n",
    "y_test.value_counts(normalize=True)"
   ]
  },
  {
   "cell_type": "markdown",
   "id": "c55e6fd7",
   "metadata": {},
   "source": [
    "### Visualizar distribución de cada conjunto (entrenamiento y test)"
   ]
  },
  {
   "cell_type": "code",
   "execution_count": 11,
   "id": "087867a9",
   "metadata": {},
   "outputs": [
    {
     "data": {
      "image/png": "[encoded data removed]",
      "text/plain": [
       "<Figure size 1080x360 with 2 Axes>"
      ]
     },
     "metadata": {
      "needs_background": "light"
     },
     "output_type": "display_data"
    }
   ],
   "source": [
    "import matplotlib.pyplot as plt\n",
    "\n",
    "fig = plt.figure(figsize=(15,5))\n",
    "\n",
    "#fig.suptitle(\"Distribución de los grupos en los conjuntos de entrenamiento y test\")\n",
    "\n",
    "# Representación del conjunto de entrenamiento\n",
    "plt.subplot(121)\n",
    "y_train.value_counts().plot(kind='bar')\n",
    "plt.title('Distribución del conjunto de entrenamiento')\n",
    "plt.xlabel('Grupo')\n",
    "plt.xticks(rotation=0)\n",
    "\n",
    "# Representación del conjunto de test\n",
    "plt.subplot(122)\n",
    "y_test.value_counts().plot(kind='bar', color='seagreen')\n",
    "plt.title('Distribución del conjunto de test')\n",
    "plt.xlabel('Grupo')\n",
    "plt.xticks(rotation=0)\n",
    "\n",
    "plt.show()"
   ]
  },
  {
   "cell_type": "markdown",
   "id": "9c9bd050",
   "metadata": {},
   "source": [
    "---\n",
    "\n",
    "# 2. Crear el modelo"
   ]
  },
  {
   "cell_type": "code",
   "execution_count": 12,
   "id": "a0dbe10a",
   "metadata": {},
   "outputs": [
    {
     "data": {
      "text/plain": [
       "GridSearchCV(cv=StratifiedKFold(n_splits=8, random_state=1234, shuffle=True),\n",
       "             estimator=DecisionTreeClassifier(random_state=1234), n_jobs=7,\n",
       "             param_grid={'criterion': ['gini', 'entropy'],\n",
       "                         'max_depth': array([ 1,  3,  5,  7,  9, 11, 13, 15, 17, 19, 21, 23, 25, 27, 29, 31, 33,\n",
       "       35, 37, 39, 41, 43, 45, 47, 49]),\n",
       "                         'min_samples_leaf': array([ 2,  3,  4,  5,  6,  7,  8,  9, 10, 11, 12, 13, 14]),\n",
       "                         'splitter': ['best', 'random']},\n",
       "             return_train_score=True, scoring='accuracy')"
      ]
     },
     "execution_count": 12,
     "metadata": {},
     "output_type": "execute_result"
    }
   ],
   "source": [
    "from sklearn.tree import DecisionTreeClassifier\n",
    "from sklearn.model_selection import GridSearchCV, StratifiedKFold\n",
    "import multiprocessing\n",
    "\n",
    "# Definición del modelo\n",
    "modelo = DecisionTreeClassifier(random_state=semilla)\n",
    "\n",
    "# Definición de parámetros de búsqueda\n",
    "parametros = {'criterion'       : ['gini','entropy'],\n",
    "              'splitter'        : ['best','random'],\n",
    "              'max_depth'       : np.arange(1,50,2),\n",
    "              'min_samples_leaf': np.arange(2,15)}\n",
    "\n",
    "# Definición de los folds estratificados\n",
    "folds = StratifiedKFold(n_splits=8, shuffle=True, random_state=semilla)\n",
    "\n",
    "# Búsqueda de parámetros\n",
    "grid = GridSearchCV(\n",
    "    estimator  = modelo,\n",
    "    param_grid = parametros,\n",
    "    scoring    = 'accuracy',\n",
    "    n_jobs     = multiprocessing.cpu_count() - 1,\n",
    "    cv         = folds,\n",
    "    verbose    = 0,\n",
    "    return_train_score = True\n",
    "    )\n",
    "\n",
    "# Entrenamiento\n",
    "grid.fit(X_train, y_train)"
   ]
  },
  {
   "cell_type": "code",
   "execution_count": 13,
   "id": "a5048b60",
   "metadata": {},
   "outputs": [
    {
     "data": {
      "text/html": [
       "<div>\n",
       "<style scoped>\n",
       "    .dataframe tbody tr th:only-of-type {\n",
       "        vertical-align: middle;\n",
       "    }\n",
       "\n",
       "    .dataframe tbody tr th {\n",
       "        vertical-align: top;\n",
       "    }\n",
       "\n",
       "    .dataframe thead th {\n",
       "        text-align: right;\n",
       "    }\n",
       "</style>\n",
       "<table border=\"1\" class=\"dataframe\">\n",
       "  <thead>\n",
       "    <tr style=\"text-align: right;\">\n",
       "      <th></th>\n",
       "      <th>params</th>\n",
       "      <th>rank_test_score</th>\n",
       "      <th>mean_test_score</th>\n",
       "      <th>std_test_score</th>\n",
       "    </tr>\n",
       "  </thead>\n",
       "  <tbody>\n",
       "    <tr>\n",
       "      <th>225</th>\n",
       "      <td>{'criterion': 'gini', 'max_depth': 17, 'min_sa...</td>\n",
       "      <td>1</td>\n",
       "      <td>0.708333</td>\n",
       "      <td>0.15652</td>\n",
       "    </tr>\n",
       "    <tr>\n",
       "      <th>825</th>\n",
       "      <td>{'criterion': 'entropy', 'max_depth': 13, 'min...</td>\n",
       "      <td>1</td>\n",
       "      <td>0.708333</td>\n",
       "      <td>0.15652</td>\n",
       "    </tr>\n",
       "    <tr>\n",
       "      <th>823</th>\n",
       "      <td>{'criterion': 'entropy', 'max_depth': 13, 'min...</td>\n",
       "      <td>1</td>\n",
       "      <td>0.708333</td>\n",
       "      <td>0.15652</td>\n",
       "    </tr>\n",
       "    <tr>\n",
       "      <th>511</th>\n",
       "      <td>{'criterion': 'gini', 'max_depth': 39, 'min_sa...</td>\n",
       "      <td>1</td>\n",
       "      <td>0.708333</td>\n",
       "      <td>0.15652</td>\n",
       "    </tr>\n",
       "    <tr>\n",
       "      <th>1213</th>\n",
       "      <td>{'criterion': 'entropy', 'max_depth': 43, 'min...</td>\n",
       "      <td>1</td>\n",
       "      <td>0.708333</td>\n",
       "      <td>0.15652</td>\n",
       "    </tr>\n",
       "  </tbody>\n",
       "</table>\n",
       "</div>"
      ],
      "text/plain": [
       "                                                 params  rank_test_score  \\\n",
       "225   {'criterion': 'gini', 'max_depth': 17, 'min_sa...                1   \n",
       "825   {'criterion': 'entropy', 'max_depth': 13, 'min...                1   \n",
       "823   {'criterion': 'entropy', 'max_depth': 13, 'min...                1   \n",
       "511   {'criterion': 'gini', 'max_depth': 39, 'min_sa...                1   \n",
       "1213  {'criterion': 'entropy', 'max_depth': 43, 'min...                1   \n",
       "\n",
       "      mean_test_score  std_test_score  \n",
       "225          0.708333         0.15652  \n",
       "825          0.708333         0.15652  \n",
       "823          0.708333         0.15652  \n",
       "511          0.708333         0.15652  \n",
       "1213         0.708333         0.15652  "
      ]
     },
     "execution_count": 13,
     "metadata": {},
     "output_type": "execute_result"
    }
   ],
   "source": [
    "# Visualización de los resultados de la búsqueda ordenados de mejor a peor\n",
    "df_resultados = pd.DataFrame(grid.cv_results_)\n",
    "df_resultados = df_resultados.sort_values(by=['rank_test_score'])\n",
    "df_resultados[['params', 'rank_test_score', 'mean_test_score', 'std_test_score']].head()"
   ]
  },
  {
   "cell_type": "code",
   "execution_count": 14,
   "id": "e5d2c2c7",
   "metadata": {},
   "outputs": [
    {
     "name": "stdout",
     "output_type": "stream",
     "text": [
      "Mejores parámetros:  {'criterion': 'gini', 'max_depth': 3, 'min_samples_leaf': 10, 'splitter': 'random'}\n"
     ]
    }
   ],
   "source": [
    "# Se muestran los mejores parámetros\n",
    "print('Mejores parámetros: ', grid.best_params_)"
   ]
  },
  {
   "cell_type": "code",
   "execution_count": 15,
   "id": "e5857a30",
   "metadata": {},
   "outputs": [
    {
     "name": "stdout",
     "output_type": "stream",
     "text": [
      "0.7083333333333333\n"
     ]
    }
   ],
   "source": [
    "# Se visualiza la exactitud (accuracy) del entrenamiento para compararlo con el que se obtenga en la evaluación\n",
    "print(grid.best_score_)"
   ]
  },
  {
   "cell_type": "code",
   "execution_count": 16,
   "id": "0feb214f",
   "metadata": {},
   "outputs": [],
   "source": [
    "# Se toma el modelo que ha obtenido el mejor resultado\n",
    "modelo_ad = grid.best_estimator_"
   ]
  },
  {
   "cell_type": "markdown",
   "id": "43e38a29",
   "metadata": {},
   "source": [
    "---\n",
    "\n",
    "# 3. Evaluar el modelo"
   ]
  },
  {
   "cell_type": "code",
   "execution_count": 17,
   "id": "b93ca4fa",
   "metadata": {},
   "outputs": [],
   "source": [
    "# Se lleva a cabo la predicción para evaluar el modelo\n",
    "y_pred = modelo_ad.predict(X_test)"
   ]
  },
  {
   "cell_type": "code",
   "execution_count": 18,
   "id": "39f54714",
   "metadata": {},
   "outputs": [
    {
     "name": "stdout",
     "output_type": "stream",
     "text": [
      "[0 1 0 0 1 1 1 0 0 0 0 1 0 0 0 0 0 1 1 1 0 0 0 0 1 0 0 1 0 0 0 1 1 0 0 1 0\n",
      " 0 1 1 0 1 1 0 1 1 1 0]\n"
     ]
    }
   ],
   "source": [
    "# Visualización de las predicciones\n",
    "print(y_pred)"
   ]
  },
  {
   "cell_type": "markdown",
   "id": "88b10bc9",
   "metadata": {},
   "source": [
    "## Matriz de confusión"
   ]
  },
  {
   "cell_type": "code",
   "execution_count": 19,
   "id": "1e7a81e5",
   "metadata": {},
   "outputs": [
    {
     "data": {
      "image/png": "[encoded data removed]",
      "text/plain": [
       "<Figure size 432x288 with 1 Axes>"
      ]
     },
     "metadata": {
      "needs_background": "light"
     },
     "output_type": "display_data"
    }
   ],
   "source": [
    "from sklearn.metrics import confusion_matrix, ConfusionMatrixDisplay, classification_report\n",
    "\n",
    "cm = confusion_matrix(y_test, y_pred)\n",
    "# Filas: valores reales\n",
    "# Columnas: predicción\n",
    "\n",
    "clases = ['Control', 'Diabetes 1', 'Diabetes 2']\n",
    "\n",
    "# Visualización de la matriz de confusión\n",
    "disp = ConfusionMatrixDisplay(confusion_matrix=cm, display_labels=clases)\n",
    "\n",
    "disp.plot(cmap='Blues', colorbar=False)\n",
    "plt.show()"
   ]
  },
  {
   "cell_type": "markdown",
   "id": "38845ca4",
   "metadata": {},
   "source": [
    "## Classification report"
   ]
  },
  {
   "cell_type": "code",
   "execution_count": 20,
   "id": "34d743ca",
   "metadata": {},
   "outputs": [
    {
     "name": "stdout",
     "output_type": "stream",
     "text": [
      "              precision    recall  f1-score   support\n",
      "\n",
      "     Control     0.6071    0.9444    0.7391        18\n",
      "  Diabetes 1     0.7000    0.5600    0.6222        25\n",
      "  Diabetes 2     0.0000    0.0000    0.0000         5\n",
      "\n",
      "    accuracy                         0.6458        48\n",
      "   macro avg     0.4357    0.5015    0.4538        48\n",
      "weighted avg     0.5923    0.6458    0.6012        48\n",
      "\n"
     ]
    }
   ],
   "source": [
    "clases = ['Control', 'Diabetes 1', 'Diabetes 2']\n",
    "\n",
    "print(classification_report(y_test,\n",
    "                            y_pred,\n",
    "                            target_names=clases,\n",
    "                            digits=4,\n",
    "                            zero_division=0))\n",
    "\n",
    "# El parámetro zero_division no muestra warnings cuando se vaya a realizar una división por 0 al calcular alguna métrica"
   ]
  },
  {
   "cell_type": "markdown",
   "id": "ee2a4802",
   "metadata": {},
   "source": [
    "Se calcula la __especificidad__ a partir de la clase _multilabel_confusion_matrix_. Se van a obtener también el resto de métricas con las obtenidas en el _classification report_ para comprobar que son correctas.\n",
    "\n",
    "Código basado en la documentación de scikit-learn: https://scikit-learn.org/stable/modules/model_evaluation.html#multilabel-confusion-matrix"
   ]
  },
  {
   "cell_type": "code",
   "execution_count": 21,
   "id": "f020573b",
   "metadata": {},
   "outputs": [
    {
     "name": "stdout",
     "output_type": "stream",
     "text": [
      "----------------------\n",
      "Exactitud: \t0.6458\n",
      "----------------------\n",
      "\n",
      "----------------------\n",
      "      Precisión       \n",
      "----------------------\n",
      "Control: \t0.6071\n",
      "Diabetes 1: \t0.7000\n",
      "Diabetes 2: \tnan\n",
      "MACRO AVG: \tnan\n",
      "\n",
      "----------------------\n",
      "     Sensibilidad     \n",
      "----------------------\n",
      "Control: \t0.9444\n",
      "Diabetes 1: \t0.5600\n",
      "Diabetes 2: \t0.0000\n",
      "MACRO AVG: \t0.5015\n",
      "\n",
      "----------------------\n",
      "    Especificidad     \n",
      "----------------------\n",
      "Control: \t0.6333\n",
      "Diabetes 1: \t0.7391\n",
      "Diabetes 2: \t1.0000\n",
      "MACRO AVG: \t0.7908\n",
      "\n",
      "----------------------\n",
      "       F1-score       \n",
      "----------------------\n",
      "Control: \t0.7391\n",
      "Diabetes 1: \t0.6222\n",
      "Diabetes 2: \tnan\n",
      "MACRO AVG: \tnan\n",
      "\n"
     ]
    },
    {
     "name": "stderr",
     "output_type": "stream",
     "text": [
      "C:\\Users\\Alberto\\AppData\\Local\\Temp/ipykernel_1476/1740227734.py:14: RuntimeWarning: invalid value encountered in true_divide\n",
      "  precision   = tp / (tp + fp)\n"
     ]
    }
   ],
   "source": [
    "from sklearn.metrics import multilabel_confusion_matrix, accuracy_score\n",
    "\n",
    "# Se obtiene la matriz de confusión de cada clase\n",
    "cm_multi = multilabel_confusion_matrix(y_test, y_pred)\n",
    "\n",
    "# Se obtienen los valores de TN, TP, FN y FP de cada clase\n",
    "tn = cm_multi[:, 0, 0]\n",
    "tp = cm_multi[:, 1, 1]\n",
    "fn = cm_multi[:, 1, 0]\n",
    "fp = cm_multi[:, 0, 1]\n",
    "\n",
    "# Se calculan las métricas (array de dimensión 3 con la métrica para cada clase)\n",
    "accuracy    = accuracy_score(y_test, y_pred)\n",
    "precision   = tp / (tp + fp)\n",
    "recall      = tp / (tp + fn)\n",
    "specificity = tn / (tn + fp)\n",
    "f1          = (2 * precision * recall) / (precision + recall)\n",
    "\n",
    "# Visualizar la exactitud del modelo\n",
    "print(\"----------------------\")\n",
    "print(\"Exactitud: \\t{:.4f}\".format(accuracy))\n",
    "print(\"----------------------\")\n",
    "print(\"\")\n",
    "\n",
    "# Visualizar la métrica precision para cada clase y la global (macro avg)\n",
    "print(\"----------------------\")\n",
    "print(\"      Precisión       \")\n",
    "print(\"----------------------\")\n",
    "print(\"Control: \\t{:.4f}\".format(precision[0]))\n",
    "print(\"Diabetes 1: \\t{:.4f}\".format(precision[1]))\n",
    "print(\"Diabetes 2: \\t{:.4f}\".format(precision[2]))\n",
    "print(\"MACRO AVG: \\t{:.4f}\".format(precision.mean()))\n",
    "print(\"\")\n",
    "\n",
    "# Visualizar la sensibilidad para cada clase y la global (macro avg)\n",
    "print(\"----------------------\")\n",
    "print(\"     Sensibilidad     \")\n",
    "print(\"----------------------\")\n",
    "print(\"Control: \\t{:.4f}\".format(recall[0]))\n",
    "print(\"Diabetes 1: \\t{:.4f}\".format(recall[1]))\n",
    "print(\"Diabetes 2: \\t{:.4f}\".format(recall[2]))\n",
    "print(\"MACRO AVG: \\t{:.4f}\".format(recall.mean()))\n",
    "print(\"\")\n",
    "\n",
    "# Visualizar la especificidad para cada clase y la global (macro avg)\n",
    "print(\"----------------------\")\n",
    "print(\"    Especificidad     \")\n",
    "print(\"----------------------\")\n",
    "print(\"Control: \\t{:.4f}\".format(specificity[0]))\n",
    "print(\"Diabetes 1: \\t{:.4f}\".format(specificity[1]))\n",
    "print(\"Diabetes 2: \\t{:.4f}\".format(specificity[2]))\n",
    "print(\"MACRO AVG: \\t{:.4f}\".format(specificity.mean()))\n",
    "print(\"\")\n",
    "\n",
    "# Visualizar la mátrica F1 para cada clase y la global (macro avg)\n",
    "print(\"----------------------\")\n",
    "print(\"       F1-score       \")\n",
    "print(\"----------------------\")\n",
    "print(\"Control: \\t{:.4f}\".format(f1[0]))\n",
    "print(\"Diabetes 1: \\t{:.4f}\".format(f1[1]))\n",
    "print(\"Diabetes 2: \\t{:.4f}\".format(f1[2]))\n",
    "print(\"MACRO AVG: \\t{:.4f}\".format(f1.mean()))\n",
    "print(\"\")"
   ]
  },
  {
   "cell_type": "markdown",
   "id": "e0272922",
   "metadata": {},
   "source": [
    "---\n",
    "\n",
    "# 4. Visualizar el árbol de decisión"
   ]
  },
  {
   "cell_type": "code",
   "execution_count": 22,
   "id": "4c542e0b",
   "metadata": {},
   "outputs": [
    {
     "data": {
      "image/png": "[encoded data removed]",
      "text/plain": [
       "<Figure size 1080x720 with 1 Axes>"
      ]
     },
     "metadata": {
      "needs_background": "light"
     },
     "output_type": "display_data"
    }
   ],
   "source": [
    "from sklearn.tree import plot_tree\n",
    "\n",
    "feature_names = ['AF365', 'AF450', '35 deg', '42 deg']\n",
    "class_names = ['Control', 'Diabetes 1', 'Diabetes 2']\n",
    "\n",
    "plt.figure(figsize=(15,10))\n",
    "\n",
    "# Configuración de la visualización del árbol\n",
    "plot_tree(modelo_ad,\n",
    "          feature_names = feature_names,\n",
    "          class_names   = class_names,\n",
    "          filled        = True,\n",
    "          node_ids      = True,\n",
    "          rounded       = True,\n",
    "          precision     = 2,\n",
    "          fontsize      = 12)\n",
    "\n",
    "plt.show()"
   ]
  }
 ],
 "metadata": {
  "kernelspec": {
   "display_name": "Python 3 (ipykernel)",
   "language": "python",
   "name": "python3"
  },
  "language_info": {
   "codemirror_mode": {
    "name": "ipython",
    "version": 3
   },
   "file_extension": ".py",
   "mimetype": "text/x-python",
   "name": "python",
   "nbconvert_exporter": "python",
   "pygments_lexer": "ipython3",
   "version": "3.8.11"
  }
 },
 "nbformat": 4,
 "nbformat_minor": 5
}
