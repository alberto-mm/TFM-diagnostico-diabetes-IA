{
 "cells": [
  {
   "cell_type": "markdown",
   "id": "e6873ff1",
   "metadata": {},
   "source": [
    "### 0. Importar librerías"
   ]
  },
  {
   "cell_type": "code",
   "execution_count": 1,
   "id": "1b4341cc",
   "metadata": {},
   "outputs": [],
   "source": [
    "import pandas as pd\n",
    "import numpy as np\n",
    "\n",
    "# Se define la semilla para que cuando se vuelva a ejecutar el split train-test\n",
    "# los datos que contiene cada conjunto sean los mismos y para que la inicialización\n",
    "# del modelo creado sea la misma.\n",
    "semilla = 1234"
   ]
  },
  {
   "cell_type": "markdown",
   "id": "6011d883",
   "metadata": {},
   "source": [
    "---\n",
    "\n",
    "# 1. Cargar el dataset"
   ]
  },
  {
   "cell_type": "code",
   "execution_count": 2,
   "id": "85764757",
   "metadata": {},
   "outputs": [
    {
     "data": {
      "text/html": [
       "<div>\n",
       "<style scoped>\n",
       "    .dataframe tbody tr th:only-of-type {\n",
       "        vertical-align: middle;\n",
       "    }\n",
       "\n",
       "    .dataframe tbody tr th {\n",
       "        vertical-align: top;\n",
       "    }\n",
       "\n",
       "    .dataframe thead th {\n",
       "        text-align: right;\n",
       "    }\n",
       "</style>\n",
       "<table border=\"1\" class=\"dataframe\">\n",
       "  <thead>\n",
       "    <tr style=\"text-align: right;\">\n",
       "      <th></th>\n",
       "      <th>AF365</th>\n",
       "      <th>AF450</th>\n",
       "      <th>35 deg</th>\n",
       "      <th>42 deg</th>\n",
       "      <th>Grupo</th>\n",
       "    </tr>\n",
       "  </thead>\n",
       "  <tbody>\n",
       "    <tr>\n",
       "      <th>0</th>\n",
       "      <td>2.320158</td>\n",
       "      <td>1.229614</td>\n",
       "      <td>13.01</td>\n",
       "      <td>19.39</td>\n",
       "      <td>0</td>\n",
       "    </tr>\n",
       "    <tr>\n",
       "      <th>1</th>\n",
       "      <td>1.529274</td>\n",
       "      <td>0.616514</td>\n",
       "      <td>8.18</td>\n",
       "      <td>24.78</td>\n",
       "      <td>0</td>\n",
       "    </tr>\n",
       "    <tr>\n",
       "      <th>2</th>\n",
       "      <td>1.908257</td>\n",
       "      <td>0.955847</td>\n",
       "      <td>7.75</td>\n",
       "      <td>16.90</td>\n",
       "      <td>0</td>\n",
       "    </tr>\n",
       "    <tr>\n",
       "      <th>3</th>\n",
       "      <td>1.590625</td>\n",
       "      <td>1.018495</td>\n",
       "      <td>4.10</td>\n",
       "      <td>16.30</td>\n",
       "      <td>0</td>\n",
       "    </tr>\n",
       "    <tr>\n",
       "      <th>4</th>\n",
       "      <td>1.617071</td>\n",
       "      <td>1.242961</td>\n",
       "      <td>5.76</td>\n",
       "      <td>21.05</td>\n",
       "      <td>0</td>\n",
       "    </tr>\n",
       "    <tr>\n",
       "      <th>...</th>\n",
       "      <td>...</td>\n",
       "      <td>...</td>\n",
       "      <td>...</td>\n",
       "      <td>...</td>\n",
       "      <td>...</td>\n",
       "    </tr>\n",
       "    <tr>\n",
       "      <th>115</th>\n",
       "      <td>3.034884</td>\n",
       "      <td>2.051768</td>\n",
       "      <td>4.55</td>\n",
       "      <td>8.50</td>\n",
       "      <td>2</td>\n",
       "    </tr>\n",
       "    <tr>\n",
       "      <th>116</th>\n",
       "      <td>4.093525</td>\n",
       "      <td>3.037288</td>\n",
       "      <td>3.97</td>\n",
       "      <td>5.35</td>\n",
       "      <td>2</td>\n",
       "    </tr>\n",
       "    <tr>\n",
       "      <th>117</th>\n",
       "      <td>4.730000</td>\n",
       "      <td>3.040000</td>\n",
       "      <td>7.04</td>\n",
       "      <td>14.44</td>\n",
       "      <td>2</td>\n",
       "    </tr>\n",
       "    <tr>\n",
       "      <th>118</th>\n",
       "      <td>3.200000</td>\n",
       "      <td>2.360000</td>\n",
       "      <td>6.70</td>\n",
       "      <td>10.57</td>\n",
       "      <td>2</td>\n",
       "    </tr>\n",
       "    <tr>\n",
       "      <th>119</th>\n",
       "      <td>3.885714</td>\n",
       "      <td>2.403073</td>\n",
       "      <td>6.61</td>\n",
       "      <td>14.30</td>\n",
       "      <td>2</td>\n",
       "    </tr>\n",
       "  </tbody>\n",
       "</table>\n",
       "<p>120 rows × 5 columns</p>\n",
       "</div>"
      ],
      "text/plain": [
       "        AF365     AF450  35 deg  42 deg  Grupo\n",
       "0    2.320158  1.229614   13.01   19.39      0\n",
       "1    1.529274  0.616514    8.18   24.78      0\n",
       "2    1.908257  0.955847    7.75   16.90      0\n",
       "3    1.590625  1.018495    4.10   16.30      0\n",
       "4    1.617071  1.242961    5.76   21.05      0\n",
       "..        ...       ...     ...     ...    ...\n",
       "115  3.034884  2.051768    4.55    8.50      2\n",
       "116  4.093525  3.037288    3.97    5.35      2\n",
       "117  4.730000  3.040000    7.04   14.44      2\n",
       "118  3.200000  2.360000    6.70   10.57      2\n",
       "119  3.885714  2.403073    6.61   14.30      2\n",
       "\n",
       "[120 rows x 5 columns]"
      ]
     },
     "execution_count": 2,
     "metadata": {},
     "output_type": "execute_result"
    }
   ],
   "source": [
    "# Ruta del fichero\n",
    "path = 'datos/datos_filtrados.csv'\n",
    "\n",
    "# Cargar el dataset\n",
    "datos = pd.read_csv(path)\n",
    "\n",
    "# Al ser un dataset pequeño se muestra completo\n",
    "datos"
   ]
  },
  {
   "cell_type": "code",
   "execution_count": 3,
   "id": "effe4666",
   "metadata": {},
   "outputs": [
    {
     "data": {
      "text/plain": [
       "1    61\n",
       "0    46\n",
       "2    13\n",
       "Name: Grupo, dtype: int64"
      ]
     },
     "execution_count": 3,
     "metadata": {},
     "output_type": "execute_result"
    }
   ],
   "source": [
    "# Contar el número de instancias de cada grupo\n",
    "datos['Grupo'].value_counts()"
   ]
  },
  {
   "cell_type": "markdown",
   "id": "02f716f6",
   "metadata": {},
   "source": [
    "## Preparar conjuntos de entrenamiento (80%) y test (20%)"
   ]
  },
  {
   "cell_type": "code",
   "execution_count": 4,
   "id": "9fc8f7bc",
   "metadata": {},
   "outputs": [],
   "source": [
    "# Se separa la variable a predecir (Grupo)\n",
    "X = datos.drop('Grupo', axis=1)\n",
    "y = datos['Grupo']"
   ]
  },
  {
   "cell_type": "code",
   "execution_count": 5,
   "id": "793c7098",
   "metadata": {},
   "outputs": [],
   "source": [
    "# Importar librería de scikit-learn para separar los datos\n",
    "from sklearn.model_selection import train_test_split\n",
    "\n",
    "# Separar datos en conjunto de entrenamiento (80%) y test (20%) de manera estratificada\n",
    "X_train, X_test, y_train, y_test = train_test_split(X,\n",
    "                                                    y,\n",
    "                                                    test_size=0.2,\n",
    "                                                    shuffle=True,\n",
    "                                                    stratify=y,\n",
    "                                                    random_state=semilla)"
   ]
  },
  {
   "cell_type": "code",
   "execution_count": 6,
   "id": "34696ba5",
   "metadata": {},
   "outputs": [
    {
     "name": "stdout",
     "output_type": "stream",
     "text": [
      "Training Features Shape: (96, 4)\n",
      "Training Labels Shape: (96,)\n",
      "Testing Features Shape: (24, 4)\n",
      "Testing Labels Shape: (24,)\n"
     ]
    }
   ],
   "source": [
    "# Visualizar la dimensión de los datos separados\n",
    "print('Training Features Shape:', X_train.shape)\n",
    "print('Training Labels Shape:', y_train.shape)\n",
    "print('Testing Features Shape:', X_test.shape)\n",
    "print('Testing Labels Shape:', y_test.shape)"
   ]
  },
  {
   "cell_type": "code",
   "execution_count": 7,
   "id": "4f900cab",
   "metadata": {},
   "outputs": [
    {
     "data": {
      "text/plain": [
       "1    49\n",
       "0    37\n",
       "2    10\n",
       "Name: Grupo, dtype: int64"
      ]
     },
     "execution_count": 7,
     "metadata": {},
     "output_type": "execute_result"
    }
   ],
   "source": [
    "# Distribución de los grupos en el conjunto de entrenamiento\n",
    "y_train.value_counts()"
   ]
  },
  {
   "cell_type": "code",
   "execution_count": 8,
   "id": "5c1cd37d",
   "metadata": {},
   "outputs": [
    {
     "data": {
      "text/plain": [
       "1    0.510417\n",
       "0    0.385417\n",
       "2    0.104167\n",
       "Name: Grupo, dtype: float64"
      ]
     },
     "execution_count": 8,
     "metadata": {},
     "output_type": "execute_result"
    }
   ],
   "source": [
    "# Valores normalizados\n",
    "y_train.value_counts(normalize=True)"
   ]
  },
  {
   "cell_type": "code",
   "execution_count": 9,
   "id": "09a26af2",
   "metadata": {},
   "outputs": [
    {
     "data": {
      "text/plain": [
       "1    12\n",
       "0     9\n",
       "2     3\n",
       "Name: Grupo, dtype: int64"
      ]
     },
     "execution_count": 9,
     "metadata": {},
     "output_type": "execute_result"
    }
   ],
   "source": [
    "# Distribución de los grupos en el conjunto de test\n",
    "y_test.value_counts()"
   ]
  },
  {
   "cell_type": "code",
   "execution_count": 10,
   "id": "2f3bd577",
   "metadata": {},
   "outputs": [
    {
     "data": {
      "text/plain": [
       "1    0.500\n",
       "0    0.375\n",
       "2    0.125\n",
       "Name: Grupo, dtype: float64"
      ]
     },
     "execution_count": 10,
     "metadata": {},
     "output_type": "execute_result"
    }
   ],
   "source": [
    "# Valores normalizados\n",
    "y_test.value_counts(normalize=True)"
   ]
  },
  {
   "cell_type": "markdown",
   "id": "c55e6fd7",
   "metadata": {},
   "source": [
    "### Visualizar distribución de cada conjunto (entrenamiento y test)"
   ]
  },
  {
   "cell_type": "code",
   "execution_count": 11,
   "id": "087867a9",
   "metadata": {},
   "outputs": [
    {
     "data": {
      "image/png": "[encoded data removed]",
      "text/plain": [
       "<Figure size 1080x360 with 2 Axes>"
      ]
     },
     "metadata": {
      "needs_background": "light"
     },
     "output_type": "display_data"
    }
   ],
   "source": [
    "import matplotlib.pyplot as plt\n",
    "\n",
    "fig = plt.figure(figsize=(15,5))\n",
    "\n",
    "#fig.suptitle(\"Distribución de los grupos en los conjuntos de entrenamiento y test\")\n",
    "\n",
    "# Representación del conjunto de entrenamiento\n",
    "plt.subplot(121)\n",
    "y_train.value_counts().plot(kind='bar')\n",
    "plt.title('Distribución del conjunto de entrenamiento')\n",
    "plt.xlabel('Grupo')\n",
    "plt.xticks(rotation=0)\n",
    "\n",
    "# Representación del conjunto de test\n",
    "plt.subplot(122)\n",
    "y_test.value_counts().plot(kind='bar', color='seagreen')\n",
    "plt.title('Distribución del conjunto de test')\n",
    "plt.xlabel('Grupo')\n",
    "plt.xticks(rotation=0)\n",
    "\n",
    "plt.show()"
   ]
  },
  {
   "cell_type": "markdown",
   "id": "25406dbd",
   "metadata": {},
   "source": [
    "### Escalar los datos\n",
    "\n",
    "Información sobre esto: https://datascience.stackexchange.com/questions/78489/feature-scaling-for-mlp-neural-network-sklearn"
   ]
  },
  {
   "cell_type": "code",
   "execution_count": 12,
   "id": "6c989c9d",
   "metadata": {},
   "outputs": [
    {
     "data": {
      "text/plain": [
       "StandardScaler()"
      ]
     },
     "execution_count": 12,
     "metadata": {},
     "output_type": "execute_result"
    }
   ],
   "source": [
    "from sklearn.preprocessing import StandardScaler\n",
    "\n",
    "scaler = StandardScaler()\n",
    "\n",
    "# El escalado se ajusta con la media y la desviación estandar del conjunto de entrenamiento\n",
    "scaler.fit(X_train)"
   ]
  },
  {
   "cell_type": "code",
   "execution_count": 13,
   "id": "951340de",
   "metadata": {},
   "outputs": [],
   "source": [
    "# Se aplica la transformación a los datos\n",
    "X_train_norm = scaler.transform(X_train)\n",
    "X_test_norm = scaler.transform(X_test)"
   ]
  },
  {
   "cell_type": "markdown",
   "id": "919a795e",
   "metadata": {},
   "source": [
    "---\n",
    "\n",
    "# 2. Crear el modelo"
   ]
  },
  {
   "cell_type": "code",
   "execution_count": 14,
   "id": "4dfe0c2e",
   "metadata": {},
   "outputs": [
    {
     "data": {
      "text/plain": [
       "GridSearchCV(cv=StratifiedKFold(n_splits=8, random_state=1234, shuffle=True),\n",
       "             estimator=MLPClassifier(random_state=1234), n_jobs=7,\n",
       "             param_grid={'activation': ['logistic', 'tanh', 'relu'],\n",
       "                         'alpha': array([1.e-01, 1.e-02, 1.e-03, 1.e-04, 1.e-05, 1.e-06, 1.e-07, 1.e-08,\n",
       "       1.e-09]),\n",
       "                         'early_stopping': [True, False],\n",
       "                         'hidden_layer_sizes': [(8, 8), (16, 8), (32, 16)],\n",
       "                         'learning_rate': ['constant'],\n",
       "                         'learning_rate_init': [0.001],\n",
       "                         'max_iter': [1000, 1500, 2000],\n",
       "                         'n_iter_no_change': [10], 'solver': ['sgd', 'adam'],\n",
       "                         'verbose': [False]},\n",
       "             return_train_score=True, scoring='accuracy')"
      ]
     },
     "execution_count": 14,
     "metadata": {},
     "output_type": "execute_result"
    }
   ],
   "source": [
    "from sklearn.neural_network import MLPClassifier\n",
    "from sklearn.model_selection import GridSearchCV, StratifiedKFold\n",
    "import multiprocessing\n",
    "\n",
    "# Definición del modelo\n",
    "modelo = MLPClassifier(random_state=semilla)\n",
    "\n",
    "# Definición de parámetros de búsqueda\n",
    "parametros = {'hidden_layer_sizes': [(8,8), (16,8), (32,16)],\n",
    "              'activation'        : ['logistic','tanh','relu'],\n",
    "              'solver'            : ['sgd','adam'],\n",
    "              'alpha'             : 10.0 ** -np.arange(1, 10),\n",
    "              'learning_rate'     : ['constant'],\n",
    "              'learning_rate_init': [0.001],\n",
    "              'max_iter'          : [1000,1500,2000],\n",
    "              'verbose'           : [False],\n",
    "              'early_stopping'    : [True,False],\n",
    "              'n_iter_no_change'  : [10]}\n",
    "\n",
    "# Definición de los folds estratificados\n",
    "folds = StratifiedKFold(n_splits=8, shuffle=True, random_state=semilla)\n",
    "\n",
    "# Búsqueda de parámetros\n",
    "grid = GridSearchCV(\n",
    "    estimator  = modelo,\n",
    "    param_grid = parametros,\n",
    "    scoring    = 'accuracy',\n",
    "    n_jobs     = multiprocessing.cpu_count() - 1,\n",
    "    cv         = folds,\n",
    "    verbose    = 0,\n",
    "    return_train_score = True\n",
    "    )\n",
    "\n",
    "# Entrenamiento\n",
    "grid.fit(X_train_norm, y_train)"
   ]
  },
  {
   "cell_type": "code",
   "execution_count": 15,
   "id": "1ac876e5",
   "metadata": {},
   "outputs": [
    {
     "data": {
      "text/html": [
       "<div>\n",
       "<style scoped>\n",
       "    .dataframe tbody tr th:only-of-type {\n",
       "        vertical-align: middle;\n",
       "    }\n",
       "\n",
       "    .dataframe tbody tr th {\n",
       "        vertical-align: top;\n",
       "    }\n",
       "\n",
       "    .dataframe thead th {\n",
       "        text-align: right;\n",
       "    }\n",
       "</style>\n",
       "<table border=\"1\" class=\"dataframe\">\n",
       "  <thead>\n",
       "    <tr style=\"text-align: right;\">\n",
       "      <th></th>\n",
       "      <th>params</th>\n",
       "      <th>rank_test_score</th>\n",
       "      <th>mean_test_score</th>\n",
       "      <th>std_test_score</th>\n",
       "    </tr>\n",
       "  </thead>\n",
       "  <tbody>\n",
       "    <tr>\n",
       "      <th>502</th>\n",
       "      <td>{'activation': 'tanh', 'alpha': 1e-05, 'early_...</td>\n",
       "      <td>1</td>\n",
       "      <td>0.833333</td>\n",
       "      <td>0.117851</td>\n",
       "    </tr>\n",
       "    <tr>\n",
       "      <th>462</th>\n",
       "      <td>{'activation': 'tanh', 'alpha': 0.0001, 'early...</td>\n",
       "      <td>1</td>\n",
       "      <td>0.833333</td>\n",
       "      <td>0.117851</td>\n",
       "    </tr>\n",
       "    <tr>\n",
       "      <th>646</th>\n",
       "      <td>{'activation': 'tanh', 'alpha': 1e-09, 'early_...</td>\n",
       "      <td>1</td>\n",
       "      <td>0.833333</td>\n",
       "      <td>0.117851</td>\n",
       "    </tr>\n",
       "    <tr>\n",
       "      <th>394</th>\n",
       "      <td>{'activation': 'tanh', 'alpha': 0.01, 'early_s...</td>\n",
       "      <td>1</td>\n",
       "      <td>0.833333</td>\n",
       "      <td>0.117851</td>\n",
       "    </tr>\n",
       "    <tr>\n",
       "      <th>500</th>\n",
       "      <td>{'activation': 'tanh', 'alpha': 1e-05, 'early_...</td>\n",
       "      <td>1</td>\n",
       "      <td>0.833333</td>\n",
       "      <td>0.117851</td>\n",
       "    </tr>\n",
       "  </tbody>\n",
       "</table>\n",
       "</div>"
      ],
      "text/plain": [
       "                                                params  rank_test_score  \\\n",
       "502  {'activation': 'tanh', 'alpha': 1e-05, 'early_...                1   \n",
       "462  {'activation': 'tanh', 'alpha': 0.0001, 'early...                1   \n",
       "646  {'activation': 'tanh', 'alpha': 1e-09, 'early_...                1   \n",
       "394  {'activation': 'tanh', 'alpha': 0.01, 'early_s...                1   \n",
       "500  {'activation': 'tanh', 'alpha': 1e-05, 'early_...                1   \n",
       "\n",
       "     mean_test_score  std_test_score  \n",
       "502         0.833333        0.117851  \n",
       "462         0.833333        0.117851  \n",
       "646         0.833333        0.117851  \n",
       "394         0.833333        0.117851  \n",
       "500         0.833333        0.117851  "
      ]
     },
     "execution_count": 15,
     "metadata": {},
     "output_type": "execute_result"
    }
   ],
   "source": [
    "# Visualización de los resultados de la búsqueda\n",
    "df_resultados = pd.DataFrame(grid.cv_results_)\n",
    "df_resultados = df_resultados.sort_values(by=['rank_test_score'])\n",
    "df_resultados[['params', 'rank_test_score', 'mean_test_score', 'std_test_score']].head()"
   ]
  },
  {
   "cell_type": "code",
   "execution_count": 16,
   "id": "36750ee4",
   "metadata": {},
   "outputs": [
    {
     "name": "stdout",
     "output_type": "stream",
     "text": [
      "Mejores parámetros:  {'activation': 'tanh', 'alpha': 0.1, 'early_stopping': False, 'hidden_layer_sizes': (32, 16), 'learning_rate': 'constant', 'learning_rate_init': 0.001, 'max_iter': 1000, 'n_iter_no_change': 10, 'solver': 'sgd', 'verbose': False}\n"
     ]
    }
   ],
   "source": [
    "# Se muestran los mejores parámetros\n",
    "print('Mejores parámetros: ', grid.best_params_)"
   ]
  },
  {
   "cell_type": "code",
   "execution_count": 17,
   "id": "5b3bf752",
   "metadata": {},
   "outputs": [
    {
     "name": "stdout",
     "output_type": "stream",
     "text": [
      "0.8333333333333333\n"
     ]
    }
   ],
   "source": [
    "# Se visualiza la exactitud (accuracy) del entrenamiento para compararlo con el que se obtenga en la evaluación\n",
    "print(grid.best_score_)"
   ]
  },
  {
   "cell_type": "code",
   "execution_count": 18,
   "id": "59dae82a",
   "metadata": {},
   "outputs": [],
   "source": [
    "# Se toma el modelo que ha obtenido el mejor resultado\n",
    "modelo_rn = grid.best_estimator_"
   ]
  },
  {
   "cell_type": "markdown",
   "id": "13c785c0",
   "metadata": {},
   "source": [
    "### Visualización del entrenamiento\n",
    "\n",
    "A continuación, se van a visualizar una serie de parámetros del resultado del entrenamiento."
   ]
  },
  {
   "cell_type": "code",
   "execution_count": 19,
   "id": "ccc9794b",
   "metadata": {},
   "outputs": [
    {
     "data": {
      "image/png": "[encoded data removed]",
      "text/plain": [
       "<Figure size 432x288 with 1 Axes>"
      ]
     },
     "metadata": {
      "needs_background": "light"
     },
     "output_type": "display_data"
    }
   ],
   "source": [
    "# Evolución de la pérdida (loss) en cada iteración del entrenamiento\n",
    "plt.plot(modelo_rn.loss_curve_)\n",
    "plt.show()"
   ]
  },
  {
   "cell_type": "code",
   "execution_count": 20,
   "id": "db177dce",
   "metadata": {},
   "outputs": [
    {
     "data": {
      "text/plain": [
       "690"
      ]
     },
     "execution_count": 20,
     "metadata": {},
     "output_type": "execute_result"
    }
   ],
   "source": [
    "# Número de iteraciones en las que ha finalizado el entrenamiento\n",
    "# Si se han alcanzado 'n_iter_no_change' sin que varíe la pérdida un valor mayor de 'tol'\n",
    "modelo_rn.n_iter_"
   ]
  },
  {
   "cell_type": "code",
   "execution_count": 21,
   "id": "233ff3eb",
   "metadata": {},
   "outputs": [],
   "source": [
    "# Obtención de la matriz de los pesos\n",
    "weights = modelo_rn.coefs_"
   ]
  },
  {
   "cell_type": "markdown",
   "id": "491c3d79",
   "metadata": {},
   "source": [
    "La variable _weights_ contiene una lista de arrays con todos los pesos de la red neuronal. Esta lista tiene 3 elementos:\n",
    "\n",
    "- ___weights[0]___: lista de 4 arrays de longitud 32. El elemento _weights[0][0]_ es un array de tamaño 32 correspondiente a los pesos de entrada a la capa oculta 1 de la variable _AF365_. De manera análoga, _weights[0][1]_ se corresponde a los pesos de la variable _AF450_, _weights[0][2]_ a los pesos de la variable _35 deg_ y _weights[0][3]_ a los pesos de la variable _42 deg_.\n",
    "- ___weights[1]___: lista de 32 arrays de longitud 16 correspondientes a los pesos de entrada a la capa oculta 2 de cada una de las neuronas de la capa oculta 1.\n",
    "- ___weights[2]___: lista de 16 arrays de longitud 3 correspondientes a los pesos de entrada a la capa de salida de cada una de las neuronas de la capa oculta 2.\n",
    "\n",
    "Estos pesos se pueden visualizar en las celdas siguientes:"
   ]
  },
  {
   "cell_type": "code",
   "execution_count": 22,
   "id": "74511b88",
   "metadata": {},
   "outputs": [
    {
     "name": "stdout",
     "output_type": "stream",
     "text": [
      "--------------------------------------------------------------------------\n",
      "Pesos de entrada a la capa oculta 1 de la variable AF365:\n",
      "--------------------------------------------------------------------------\n",
      "[-0.27289189  0.0817475   0.01442929  0.1750549   0.12838667 -0.07386082\n",
      " -0.20585071  0.29785135  0.26310921  0.30284277 -0.09295085 -0.16399638\n",
      "  0.18533125  0.16914131 -0.10677528  0.05237521 -0.12474937 -0.40119067\n",
      "  0.18590536  0.34877566 -0.11189354  0.08685324 -0.37705224 -0.11222746\n",
      "  0.41163546  0.17760871 -0.1890666   0.20541195 -0.11593207  0.08766819\n",
      "  0.39102177 -0.12839009]\n",
      "\n",
      "\n",
      "--------------------------------------------------------------------------\n",
      "Pesos de entrada a la capa oculta 1 de la variable AF450:\n",
      "--------------------------------------------------------------------------\n",
      "[ 0.1800954  -0.32590719  0.22989853  0.08699651 -0.32506173  0.43489453\n",
      " -0.09307614  0.38772192 -0.44454737 -0.24806849 -0.30836125 -0.0482107\n",
      "  0.12566014  0.04727859 -0.36797456  0.07767315 -0.27307781  0.02645977\n",
      " -0.35299776  0.12063341  0.03955445 -0.39503082  0.05682078  0.31206649\n",
      "  0.31560007  0.44404535  0.24476436  0.20952301 -0.09430602  0.16376344\n",
      "  0.07337559 -0.32537477]\n",
      "\n",
      "\n",
      "--------------------------------------------------------------------------\n",
      "Pesos de entrada a la capa oculta 1 de la variable 35 deg:\n",
      "--------------------------------------------------------------------------\n",
      "[-0.13442496 -0.36915876 -0.00168267  0.39724139 -0.24631157 -0.33848231\n",
      "  0.1817079   0.03175781 -0.00289381 -0.32076677 -0.20158232  0.34408058\n",
      " -0.05689691  0.03024218 -0.41832615 -0.07689827 -0.02003461  0.09541592\n",
      "  0.31649226  0.05870849  0.18779827 -0.26872565  0.24520607  0.24848679\n",
      "  0.07782042 -0.0967072  -0.21036028  0.0554777   0.06336158  0.34599999\n",
      " -0.04907725  0.01120277]\n",
      "\n",
      "\n",
      "--------------------------------------------------------------------------\n",
      "Pesos de entrada a la capa oculta 1 de la variable 42 deg:\n",
      "--------------------------------------------------------------------------\n",
      "[ 0.06531937  0.31038458 -0.47352935  0.24750779  0.307382    0.10576598\n",
      "  0.26736936  0.05957123  0.4661511  -0.25299499 -0.448739    0.23340209\n",
      " -0.33879198  0.3113914  -0.17218528 -0.24705062  0.03851253  0.31966866\n",
      "  0.34504583 -0.19819509 -0.09727379 -0.22831998  0.29653965  0.22967474\n",
      "  0.09040033  0.26877758  0.41395955  0.05689088 -0.27989402 -0.36304129\n",
      " -0.23688197  0.26229529]\n"
     ]
    }
   ],
   "source": [
    "# Pesos de entrada a la capa oculta 1\n",
    "print(\"--------------------------------------------------------------------------\")\n",
    "print(\"Pesos de entrada a la capa oculta 1 de la variable AF365:\")\n",
    "print(\"--------------------------------------------------------------------------\")\n",
    "print(weights[0][0])\n",
    "print(\"\\n\")\n",
    "print(\"--------------------------------------------------------------------------\")\n",
    "print(\"Pesos de entrada a la capa oculta 1 de la variable AF450:\")\n",
    "print(\"--------------------------------------------------------------------------\")\n",
    "print(weights[0][1])\n",
    "print(\"\\n\")\n",
    "print(\"--------------------------------------------------------------------------\")\n",
    "print(\"Pesos de entrada a la capa oculta 1 de la variable 35 deg:\")\n",
    "print(\"--------------------------------------------------------------------------\")\n",
    "print(weights[0][2])\n",
    "print(\"\\n\")\n",
    "print(\"--------------------------------------------------------------------------\")\n",
    "print(\"Pesos de entrada a la capa oculta 1 de la variable 42 deg:\")\n",
    "print(\"--------------------------------------------------------------------------\")\n",
    "print(weights[0][3])"
   ]
  },
  {
   "cell_type": "code",
   "execution_count": 23,
   "id": "4ee0c062",
   "metadata": {},
   "outputs": [
    {
     "name": "stdout",
     "output_type": "stream",
     "text": [
      "[[-0.25595309  0.13734121  0.35188756  0.29090087  0.3456477   0.24438147\n",
      "  -0.00658934 -0.03389478  0.21803673  0.32143763  0.08136357 -0.10850359\n",
      "  -0.18606934  0.24016938 -0.2163052   0.17631323]\n",
      " [-0.16091885  0.22717283  0.21031156  0.13508846  0.14064902  0.09879298\n",
      "   0.19578658  0.20531105 -0.0711001  -0.36458896 -0.10427619  0.16863881\n",
      "  -0.18405325 -0.1293073   0.14628587 -0.20875229]\n",
      " [-0.24706588  0.14113094 -0.20726708 -0.04937664 -0.00190405 -0.38600149\n",
      "   0.21487916  0.24100409  0.29012407  0.2834264   0.14347436  0.25674623\n",
      "   0.27567188  0.12779072 -0.43274141 -0.08854417]\n",
      " [-0.12063375 -0.10944269 -0.31955763  0.17294763  0.01585423  0.1066215\n",
      "   0.08413809 -0.09344262 -0.03246499 -0.05229963 -0.03667732  0.34992779\n",
      "  -0.05518177 -0.33366273  0.29815466  0.25675259]\n",
      " [-0.07971247  0.10307707 -0.13294325 -0.22956367 -0.15940805 -0.01207549\n",
      "  -0.26546619  0.14653863  0.24356875  0.29899108 -0.1130963  -0.11163392\n",
      "  -0.12818799  0.25177042  0.33858531 -0.02983508]\n",
      " [-0.40128103 -0.32784837 -0.21108799  0.09717333 -0.28693164 -0.14391416\n",
      "  -0.34694313  0.0669243  -0.41359358  0.23170539 -0.10375969  0.13109404\n",
      "   0.02091934 -0.36601049  0.01135357  0.11631503]\n",
      " [-0.2464796   0.22945155  0.05168758  0.01738975  0.15322755  0.23105785\n",
      "  -0.22404979  0.25851246  0.23633729  0.13755831  0.09994543  0.0029504\n",
      "   0.11699989  0.11787369 -0.04148265  0.05702217]\n",
      " [-0.14192679 -0.33953226  0.10631714  0.28952773  0.29052822  0.09786699\n",
      "  -0.36340804 -0.10114644 -0.43565552 -0.24605312  0.08845709 -0.29543997\n",
      "   0.06028791 -0.04664575  0.17832142  0.14783658]\n",
      " [ 0.33309898 -0.13601005 -0.23562078  0.09353916  0.33611059  0.40425907\n",
      "   0.13654054 -0.06508292  0.16625537  0.224541    0.03724865 -0.21464634\n",
      "  -0.19148955  0.3814466   0.04416611  0.07840256]\n",
      " [-0.05647178 -0.2245981  -0.17395771  0.03545902  0.31237252 -0.09018789\n",
      "   0.1284814  -0.23913023 -0.35715739 -0.25636987 -0.19246979 -0.18801371\n",
      "   0.00920145  0.15394671  0.20525068  0.09722226]\n",
      " [ 0.21419584  0.05872026  0.17109717  0.04017618  0.24792391 -0.32535713\n",
      "   0.20661152 -0.25485319 -0.3093868  -0.3086246  -0.2880311   0.01116626\n",
      "  -0.08181188  0.34958538 -0.29568449 -0.12643771]\n",
      " [ 0.40607252 -0.05898774  0.22880271  0.02260082  0.34172278  0.28372681\n",
      "   0.20660715 -0.31305596  0.36780193  0.02919513 -0.24333588  0.30462268\n",
      "  -0.19017254 -0.22319823  0.1938074   0.33350756]\n",
      " [-0.06069208 -0.05802875 -0.2612082   0.1277065   0.27292853  0.27134899\n",
      "   0.25537362 -0.26870799 -0.01919774 -0.0736214  -0.03439434 -0.39015556\n",
      "   0.28847093  0.06890436 -0.40119216  0.25429605]\n",
      " [ 0.24473013 -0.11770481  0.17603042 -0.0190552  -0.30684387 -0.03259393\n",
      "  -0.01745469 -0.16879036  0.27404226  0.17202747  0.03182485  0.00482128\n",
      "   0.01190401 -0.15123892  0.11789007  0.18441344]\n",
      " [-0.13731745  0.01343637 -0.29697776  0.13360718  0.26636122  0.04240766\n",
      "   0.40600385 -0.21491128 -0.26370904 -0.02053173  0.30013121  0.26795158\n",
      "  -0.00584166  0.31407308 -0.16563786 -0.14151463]\n",
      " [ 0.15125579  0.14014984 -0.30517389 -0.12626369  0.00725634  0.22897292\n",
      "  -0.09375452 -0.30919149  0.00204927  0.1522921  -0.10681126  0.22767131\n",
      "   0.37121764  0.17832303 -0.23468186  0.27691507]\n",
      " [ 0.27078248  0.17756598  0.30397406 -0.18457546  0.01522821  0.26420217\n",
      "   0.29694188  0.12484849  0.27102907  0.12303383 -0.32349084  0.24731124\n",
      "  -0.17964272  0.30417427 -0.00093997 -0.23977441]\n",
      " [ 0.33826254 -0.31443395  0.07360862 -0.29038715 -0.16471342  0.21758869\n",
      "   0.31967198  0.20495192  0.21059163 -0.06920719 -0.30443026 -0.16224279\n",
      "   0.0502818  -0.29395752  0.10770382 -0.17651928]\n",
      " [ 0.13678562  0.05747927 -0.01613936  0.17976032  0.36375528 -0.14933806\n",
      "   0.16030001  0.18664062 -0.10225618  0.29136142 -0.03383011  0.09565284\n",
      "  -0.17476835 -0.07659341 -0.03155131  0.36100123]\n",
      " [-0.28791073  0.101779    0.1159275  -0.26574389 -0.01325543 -0.25439128\n",
      "  -0.3425011   0.21571405 -0.43943973  0.3148314  -0.06808716 -0.12529605\n",
      "  -0.22716362 -0.31378369 -0.16448096  0.06789466]\n",
      " [-0.23235007  0.33156292 -0.23384406  0.17842565 -0.02128241  0.17031578\n",
      "  -0.12925997 -0.34957924 -0.00972201  0.15636031 -0.31194006  0.13154934\n",
      "  -0.07801869  0.07908492 -0.18972835 -0.17622953]\n",
      " [ 0.26562542  0.22513962 -0.21847746  0.11180775  0.26248463  0.18474874\n",
      "   0.01030004 -0.24374593 -0.3227898   0.22776967 -0.25167121  0.02175798\n",
      "   0.21325257 -0.33014562  0.12821549 -0.00738293]\n",
      " [-0.1235539  -0.29025955 -0.4088831  -0.23420009 -0.22694847 -0.03727291\n",
      "  -0.27055656  0.32794295  0.41533433  0.24122805 -0.28069165  0.12547066\n",
      "   0.29227471  0.38656632 -0.20511176 -0.12457945]\n",
      " [ 0.17752801  0.10364355  0.06469612  0.21993524  0.15962054 -0.12148236\n",
      "  -0.23456978  0.18003362 -0.09440043 -0.28034069  0.14029644  0.27335873\n",
      "  -0.29143352 -0.21784227 -0.04278535 -0.11837343]\n",
      " [-0.37036291 -0.27938694 -0.00939086 -0.2670816   0.20065305  0.22511871\n",
      "  -0.31283072 -0.25132141 -0.13464458  0.31574895  0.22461029 -0.31623984\n",
      "   0.33264307  0.18108532 -0.14236518 -0.26041231]\n",
      " [-0.37546809 -0.28855841  0.31017395 -0.20127188 -0.0996473   0.11183648\n",
      "   0.00805931 -0.09345413 -0.19391889 -0.32978204 -0.02221035  0.09635541\n",
      "   0.16382046 -0.2688913   0.20994061 -0.32246336]\n",
      " [ 0.32882081 -0.17963935 -0.28233279 -0.14184276  0.26408934  0.23966952\n",
      "  -0.08489843 -0.17139799  0.05326167 -0.15477878 -0.34273399  0.09465196\n",
      "   0.01936779 -0.31384043  0.2084558   0.34712253]\n",
      " [ 0.24727138 -0.11809601 -0.11964071 -0.09571764 -0.06857085 -0.0135451\n",
      "   0.10095736 -0.26444841  0.26381967  0.16223425 -0.22167858  0.2304652\n",
      "  -0.2236168   0.09431515 -0.28123425 -0.19980992]\n",
      " [-0.06990042 -0.34985147 -0.06374908  0.19558352  0.11183244  0.00974395\n",
      "   0.08679757 -0.34642823  0.13311175  0.35967852 -0.20140921  0.08119778\n",
      "   0.2803507   0.23284394 -0.10059493 -0.11569865]\n",
      " [ 0.38211622 -0.20915483 -0.21191669 -0.23581107 -0.05706016 -0.26847442\n",
      "   0.07984238 -0.35416555 -0.05293292  0.00534287  0.20535735  0.14812545\n",
      "  -0.02506844 -0.31727632 -0.21949764 -0.11475227]\n",
      " [-0.35090737 -0.03793822  0.27875083  0.32493263 -0.24632839  0.25651831\n",
      "  -0.33605499 -0.17261178  0.18005686 -0.27021445 -0.00321599 -0.11701114\n",
      "   0.34833894  0.13118453 -0.18638252 -0.37150588]\n",
      " [ 0.14217001 -0.03428459  0.21064848  0.01658315  0.37350854  0.36596608\n",
      "  -0.0277105  -0.26970644 -0.25890864 -0.14005423  0.020603    0.1219693\n",
      "  -0.11141685 -0.2244604   0.3617853   0.20985694]]\n"
     ]
    }
   ],
   "source": [
    "# Pesos de entrada a la capa oculta 2\n",
    "print(weights[1])"
   ]
  },
  {
   "cell_type": "code",
   "execution_count": 24,
   "id": "ad3c660b",
   "metadata": {},
   "outputs": [
    {
     "name": "stdout",
     "output_type": "stream",
     "text": [
      "[[ 0.11458697  0.36154629 -0.68895528]\n",
      " [-0.12681867 -0.21528441 -0.26086234]\n",
      " [-0.3145334  -0.21201718  0.29173124]\n",
      " [-0.50804423 -0.40195089 -0.16616978]\n",
      " [ 0.21650946 -0.25860921 -0.00193136]\n",
      " [ 0.43506325 -0.44929217 -0.20533533]\n",
      " [ 0.21295601  0.44630665 -0.20018865]\n",
      " [ 0.57746741 -0.00432726  0.1793752 ]\n",
      " [ 0.42791286  0.61648723 -0.53611803]\n",
      " [-0.46617847 -0.24931578 -0.58414306]\n",
      " [ 0.14852107  0.33384747  0.6049037 ]\n",
      " [ 0.03293727  0.18772507 -0.50396415]\n",
      " [-0.63907912  0.37138236 -0.24502989]\n",
      " [ 0.22861048  0.50273203  0.03320646]\n",
      " [ 0.77479207 -0.28058492 -0.46403403]\n",
      " [ 0.25341015 -0.12222055  0.04475931]]\n"
     ]
    }
   ],
   "source": [
    "# Pesos de entrada a la capa de salida\n",
    "print(weights[2])"
   ]
  },
  {
   "cell_type": "code",
   "execution_count": 25,
   "id": "d2cc8efe",
   "metadata": {},
   "outputs": [],
   "source": [
    "# Obtención de la matriz de los sesgos (bias)\n",
    "bias = modelo_rn.intercepts_"
   ]
  },
  {
   "cell_type": "markdown",
   "id": "861bf0dc",
   "metadata": {},
   "source": [
    "La variable _bias_ contiene una lista de arrays con todos los sesgos o _bias_ de cada una de las neuronas de la red. Esta lista tiene 3 elementos:\n",
    "\n",
    "- ___bias[0]___: array de longitud 32 correspondiente a los sesgos de las neuronas de la capa oculta 1.\n",
    "- ___bias[1]___: array de longitud 16 correspondiente a los sesgos de las neuronas de la capa oculta 2.\n",
    "- ___bias[2]___: array de longitud 3 correspondiente a los sesgos de las neuronas de la capa de salida.\n",
    "\n",
    "Estos sesgos se pueden visualizar en la celda siguiente:"
   ]
  },
  {
   "cell_type": "code",
   "execution_count": 26,
   "id": "df74a3ad",
   "metadata": {},
   "outputs": [
    {
     "name": "stdout",
     "output_type": "stream",
     "text": [
      "--------------------------------------------------------------------------\n",
      "Sesgos de las neuronas de la capa oculta 1\n",
      "--------------------------------------------------------------------------\n",
      "[-0.41413274 -0.38940823  0.02272226  0.04008685  0.31058181 -0.28824859\n",
      " -0.27993085 -0.44210753  0.42029243 -0.2634877  -0.12573868  0.11622634\n",
      " -0.35165611  0.38433776  0.39571563  0.1555285  -0.18682765  0.00115547\n",
      "  0.15445841 -0.46615805 -0.00677073 -0.16355215  0.49883043  0.03882313\n",
      " -0.2254147  -0.36374361  0.27056332  0.33070776  0.28461791  0.36582201\n",
      "  0.05041448 -0.06265722]\n",
      "\n",
      "\n",
      "--------------------------------------------------------------------------\n",
      "Sesgos de las neuronas de la capa oculta 2\n",
      "--------------------------------------------------------------------------\n",
      "[ 0.07648703  0.23466612 -0.38481114 -0.3586019   0.00469205  0.24586089\n",
      " -0.12532385  0.04356266 -0.14249306 -0.19059593 -0.34894764  0.33007593\n",
      "  0.12693226 -0.21244704  0.18523738 -0.03459558]\n",
      "\n",
      "\n",
      "--------------------------------------------------------------------------\n",
      "Sesgos de las neuronas de la capa de salida\n",
      "--------------------------------------------------------------------------\n",
      "[0.03890156 0.27520489 0.22745199]\n"
     ]
    }
   ],
   "source": [
    "# Visualización de los sesgos (bias) de la red neuronal\n",
    "print(\"--------------------------------------------------------------------------\")\n",
    "print(\"Sesgos de las neuronas de la capa oculta 1\")\n",
    "print(\"--------------------------------------------------------------------------\")\n",
    "print(bias[0])\n",
    "print(\"\\n\")\n",
    "print(\"--------------------------------------------------------------------------\")\n",
    "print(\"Sesgos de las neuronas de la capa oculta 2\")\n",
    "print(\"--------------------------------------------------------------------------\")\n",
    "print(bias[1])\n",
    "print(\"\\n\")\n",
    "print(\"--------------------------------------------------------------------------\")\n",
    "print(\"Sesgos de las neuronas de la capa de salida\")\n",
    "print(\"--------------------------------------------------------------------------\")\n",
    "print(bias[2])"
   ]
  },
  {
   "cell_type": "code",
   "execution_count": 27,
   "id": "de16dc71",
   "metadata": {},
   "outputs": [
    {
     "name": "stdout",
     "output_type": "stream",
     "text": [
      "Número de capas de la red neuronal: 4\n",
      "Número de características (features) de la red neuronal: 4\n",
      "Número de neuronas en la capa de salida: 3\n",
      "Función de activación de la capa de salida de la red neuronal: softmax\n"
     ]
    }
   ],
   "source": [
    "# Características de la red neuronal\n",
    "print(\"Número de capas de la red neuronal:\",                            modelo_rn.n_layers_)\n",
    "print(\"Número de características (features) de la red neuronal:\",       modelo_rn.n_features_in_)\n",
    "print(\"Número de neuronas en la capa de salida:\",                       modelo_rn.n_outputs_)\n",
    "print(\"Función de activación de la capa de salida de la red neuronal:\", modelo_rn.out_activation_)"
   ]
  },
  {
   "cell_type": "code",
   "execution_count": 28,
   "id": "1d774e72",
   "metadata": {},
   "outputs": [
    {
     "data": {
      "text/plain": [
       "{'activation': 'tanh',\n",
       " 'alpha': 0.1,\n",
       " 'batch_size': 'auto',\n",
       " 'beta_1': 0.9,\n",
       " 'beta_2': 0.999,\n",
       " 'early_stopping': False,\n",
       " 'epsilon': 1e-08,\n",
       " 'hidden_layer_sizes': (32, 16),\n",
       " 'learning_rate': 'constant',\n",
       " 'learning_rate_init': 0.001,\n",
       " 'max_fun': 15000,\n",
       " 'max_iter': 1000,\n",
       " 'momentum': 0.9,\n",
       " 'n_iter_no_change': 10,\n",
       " 'nesterovs_momentum': True,\n",
       " 'power_t': 0.5,\n",
       " 'random_state': 1234,\n",
       " 'shuffle': True,\n",
       " 'solver': 'sgd',\n",
       " 'tol': 0.0001,\n",
       " 'validation_fraction': 0.1,\n",
       " 'verbose': False,\n",
       " 'warm_start': False}"
      ]
     },
     "execution_count": 28,
     "metadata": {},
     "output_type": "execute_result"
    }
   ],
   "source": [
    "# Hiperparámetros del modelo seleccionado\n",
    "modelo_rn.get_params(deep=True)"
   ]
  },
  {
   "cell_type": "markdown",
   "id": "43e38a29",
   "metadata": {},
   "source": [
    "---\n",
    "\n",
    "# 3. Evaluar el modelo"
   ]
  },
  {
   "cell_type": "code",
   "execution_count": 29,
   "id": "b93ca4fa",
   "metadata": {},
   "outputs": [],
   "source": [
    "# Se lleva a cabo la predicción para evaluar el modelo\n",
    "y_pred = modelo_rn.predict(X_test_norm)"
   ]
  },
  {
   "cell_type": "code",
   "execution_count": 30,
   "id": "39f54714",
   "metadata": {},
   "outputs": [
    {
     "name": "stdout",
     "output_type": "stream",
     "text": [
      "[1 1 1 0 1 0 0 2 1 1 1 0 2 1 0 1 0 0 2 0 0 1 1 1]\n"
     ]
    }
   ],
   "source": [
    "# Visualización de las predicciones\n",
    "print(y_pred)"
   ]
  },
  {
   "cell_type": "markdown",
   "id": "88b10bc9",
   "metadata": {},
   "source": [
    "## Matriz de confusión"
   ]
  },
  {
   "cell_type": "code",
   "execution_count": 31,
   "id": "1e7a81e5",
   "metadata": {},
   "outputs": [
    {
     "data": {
      "image/png": "[encoded data removed]",
      "text/plain": [
       "<Figure size 432x288 with 1 Axes>"
      ]
     },
     "metadata": {
      "needs_background": "light"
     },
     "output_type": "display_data"
    }
   ],
   "source": [
    "from sklearn.metrics import confusion_matrix, ConfusionMatrixDisplay, classification_report\n",
    "\n",
    "cm = confusion_matrix(y_test, y_pred)\n",
    "# Filas: valores reales\n",
    "# Columnas: predicción\n",
    "\n",
    "clases = ['Control', 'Diabetes 1', 'Diabetes 2']\n",
    "\n",
    "# Visualización de la matriz de confusión\n",
    "disp = ConfusionMatrixDisplay(confusion_matrix=cm, display_labels=clases)\n",
    "\n",
    "disp.plot(cmap='Blues', colorbar=False)\n",
    "plt.show()"
   ]
  },
  {
   "cell_type": "markdown",
   "id": "38845ca4",
   "metadata": {},
   "source": [
    "## Classification report"
   ]
  },
  {
   "cell_type": "code",
   "execution_count": 32,
   "id": "34d743ca",
   "metadata": {},
   "outputs": [
    {
     "name": "stdout",
     "output_type": "stream",
     "text": [
      "              precision    recall  f1-score   support\n",
      "\n",
      "     Control     0.8889    0.8889    0.8889         9\n",
      "  Diabetes 1     0.9167    0.9167    0.9167        12\n",
      "  Diabetes 2     1.0000    1.0000    1.0000         3\n",
      "\n",
      "    accuracy                         0.9167        24\n",
      "   macro avg     0.9352    0.9352    0.9352        24\n",
      "weighted avg     0.9167    0.9167    0.9167        24\n",
      "\n"
     ]
    }
   ],
   "source": [
    "clases = ['Control', 'Diabetes 1', 'Diabetes 2']\n",
    "\n",
    "print(classification_report(y_test,\n",
    "                            y_pred,\n",
    "                            target_names=clases,\n",
    "                            digits=4,\n",
    "                            zero_division=0))\n",
    "\n",
    "# El parámetro zero_division no muestra warnings cuando se vaya a realizar una división por 0 al calcular alguna métrica"
   ]
  },
  {
   "cell_type": "markdown",
   "id": "83ad7a82",
   "metadata": {},
   "source": [
    "Se calcula la __especificidad__ a partir de la clase _multilabel_confusion_matrix_. Se van a obtener también el resto de métricas con las obtenidas en el _classification report_ para comprobar que son correctas.\n",
    "\n",
    "Código basado en la documentación de scikit-learn: https://scikit-learn.org/stable/modules/model_evaluation.html#multilabel-confusion-matrix"
   ]
  },
  {
   "cell_type": "code",
   "execution_count": 33,
   "id": "13776c3b",
   "metadata": {},
   "outputs": [
    {
     "name": "stdout",
     "output_type": "stream",
     "text": [
      "----------------------\n",
      "Exactitud: \t0.9167\n",
      "----------------------\n",
      "\n",
      "----------------------\n",
      "      Precisión       \n",
      "----------------------\n",
      "Control: \t0.8889\n",
      "Diabetes 1: \t0.9167\n",
      "Diabetes 2: \t1.0000\n",
      "MACRO AVG: \t0.9352\n",
      "\n",
      "----------------------\n",
      "     Sensibilidad     \n",
      "----------------------\n",
      "Control: \t0.8889\n",
      "Diabetes 1: \t0.9167\n",
      "Diabetes 2: \t1.0000\n",
      "MACRO AVG: \t0.9352\n",
      "\n",
      "----------------------\n",
      "    Especificidad     \n",
      "----------------------\n",
      "Control: \t0.9333\n",
      "Diabetes 1: \t0.9167\n",
      "Diabetes 2: \t1.0000\n",
      "MACRO AVG: \t0.9500\n",
      "\n",
      "----------------------\n",
      "       F1-score       \n",
      "----------------------\n",
      "Control: \t0.8889\n",
      "Diabetes 1: \t0.9167\n",
      "Diabetes 2: \t1.0000\n",
      "MACRO AVG: \t0.9352\n",
      "\n"
     ]
    }
   ],
   "source": [
    "from sklearn.metrics import multilabel_confusion_matrix, accuracy_score\n",
    "\n",
    "# Se obtiene la matriz de confusión de cada clase\n",
    "cm_multi = multilabel_confusion_matrix(y_test, y_pred)\n",
    "\n",
    "# Se obtienen los valores de TN, TP, FN y FP de cada clase\n",
    "tn = cm_multi[:, 0, 0]\n",
    "tp = cm_multi[:, 1, 1]\n",
    "fn = cm_multi[:, 1, 0]\n",
    "fp = cm_multi[:, 0, 1]\n",
    "\n",
    "# Se calculan las métricas (array de dimensión 3 con la métrica para cada clase)\n",
    "accuracy    = accuracy_score(y_test, y_pred)\n",
    "precision   = tp / (tp + fp)\n",
    "recall      = tp / (tp + fn)\n",
    "specificity = tn / (tn + fp)\n",
    "f1          = (2 * precision * recall) / (precision + recall)\n",
    "\n",
    "# Visualizar la exactitud del modelo\n",
    "print(\"----------------------\")\n",
    "print(\"Exactitud: \\t{:.4f}\".format(accuracy))\n",
    "print(\"----------------------\")\n",
    "print(\"\")\n",
    "\n",
    "# Visualizar la métrica precision para cada clase y la global (macro avg)\n",
    "print(\"----------------------\")\n",
    "print(\"      Precisión       \")\n",
    "print(\"----------------------\")\n",
    "print(\"Control: \\t{:.4f}\".format(precision[0]))\n",
    "print(\"Diabetes 1: \\t{:.4f}\".format(precision[1]))\n",
    "print(\"Diabetes 2: \\t{:.4f}\".format(precision[2]))\n",
    "print(\"MACRO AVG: \\t{:.4f}\".format(precision.mean()))\n",
    "print(\"\")\n",
    "\n",
    "# Visualizar la sensibilidad para cada clase y la global (macro avg)\n",
    "print(\"----------------------\")\n",
    "print(\"     Sensibilidad     \")\n",
    "print(\"----------------------\")\n",
    "print(\"Control: \\t{:.4f}\".format(recall[0]))\n",
    "print(\"Diabetes 1: \\t{:.4f}\".format(recall[1]))\n",
    "print(\"Diabetes 2: \\t{:.4f}\".format(recall[2]))\n",
    "print(\"MACRO AVG: \\t{:.4f}\".format(recall.mean()))\n",
    "print(\"\")\n",
    "\n",
    "# Visualizar la especificidad para cada clase y la global (macro avg)\n",
    "print(\"----------------------\")\n",
    "print(\"    Especificidad     \")\n",
    "print(\"----------------------\")\n",
    "print(\"Control: \\t{:.4f}\".format(specificity[0]))\n",
    "print(\"Diabetes 1: \\t{:.4f}\".format(specificity[1]))\n",
    "print(\"Diabetes 2: \\t{:.4f}\".format(specificity[2]))\n",
    "print(\"MACRO AVG: \\t{:.4f}\".format(specificity.mean()))\n",
    "print(\"\")\n",
    "\n",
    "# Visualizar la mátrica F1 para cada clase y la global (macro avg)\n",
    "print(\"----------------------\")\n",
    "print(\"       F1-score       \")\n",
    "print(\"----------------------\")\n",
    "print(\"Control: \\t{:.4f}\".format(f1[0]))\n",
    "print(\"Diabetes 1: \\t{:.4f}\".format(f1[1]))\n",
    "print(\"Diabetes 2: \\t{:.4f}\".format(f1[2]))\n",
    "print(\"MACRO AVG: \\t{:.4f}\".format(f1.mean()))\n",
    "print(\"\")"
   ]
  }
 ],
 "metadata": {
  "kernelspec": {
   "display_name": "Python 3 (ipykernel)",
   "language": "python",
   "name": "python3"
  },
  "language_info": {
   "codemirror_mode": {
    "name": "ipython",
    "version": 3
   },
   "file_extension": ".py",
   "mimetype": "text/x-python",
   "name": "python",
   "nbconvert_exporter": "python",
   "pygments_lexer": "ipython3",
   "version": "3.8.11"
  }
 },
 "nbformat": 4,
 "nbformat_minor": 5
}
