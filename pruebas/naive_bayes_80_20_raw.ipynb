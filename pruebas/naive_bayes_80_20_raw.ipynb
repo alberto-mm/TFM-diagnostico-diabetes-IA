{
 "cells": [
  {
   "cell_type": "markdown",
   "id": "e6873ff1",
   "metadata": {},
   "source": [
    "### 0. Importar librerías"
   ]
  },
  {
   "cell_type": "code",
   "execution_count": 1,
   "id": "1b4341cc",
   "metadata": {},
   "outputs": [],
   "source": [
    "import pandas as pd\n",
    "import numpy as np\n",
    "\n",
    "# Se define la semilla para que cuando se vuelva a ejecutar el split train-test\n",
    "# los datos que contiene cada conjunto sean los mismos\n",
    "semilla = 1234"
   ]
  },
  {
   "cell_type": "markdown",
   "id": "6011d883",
   "metadata": {},
   "source": [
    "---\n",
    "\n",
    "# 1. Cargar el dataset"
   ]
  },
  {
   "cell_type": "code",
   "execution_count": 2,
   "id": "85764757",
   "metadata": {},
   "outputs": [
    {
     "data": {
      "text/html": [
       "<div>\n",
       "<style scoped>\n",
       "    .dataframe tbody tr th:only-of-type {\n",
       "        vertical-align: middle;\n",
       "    }\n",
       "\n",
       "    .dataframe tbody tr th {\n",
       "        vertical-align: top;\n",
       "    }\n",
       "\n",
       "    .dataframe thead th {\n",
       "        text-align: right;\n",
       "    }\n",
       "</style>\n",
       "<table border=\"1\" class=\"dataframe\">\n",
       "  <thead>\n",
       "    <tr style=\"text-align: right;\">\n",
       "      <th></th>\n",
       "      <th>AF365</th>\n",
       "      <th>AF450</th>\n",
       "      <th>35 deg</th>\n",
       "      <th>42 deg</th>\n",
       "      <th>Grupo</th>\n",
       "    </tr>\n",
       "  </thead>\n",
       "  <tbody>\n",
       "    <tr>\n",
       "      <th>0</th>\n",
       "      <td>2.320158</td>\n",
       "      <td>1.229614</td>\n",
       "      <td>13.01</td>\n",
       "      <td>19.39</td>\n",
       "      <td>0</td>\n",
       "    </tr>\n",
       "    <tr>\n",
       "      <th>1</th>\n",
       "      <td>1.529274</td>\n",
       "      <td>0.616514</td>\n",
       "      <td>8.18</td>\n",
       "      <td>24.78</td>\n",
       "      <td>0</td>\n",
       "    </tr>\n",
       "    <tr>\n",
       "      <th>2</th>\n",
       "      <td>1.908257</td>\n",
       "      <td>0.955847</td>\n",
       "      <td>7.75</td>\n",
       "      <td>16.90</td>\n",
       "      <td>0</td>\n",
       "    </tr>\n",
       "    <tr>\n",
       "      <th>3</th>\n",
       "      <td>1.590625</td>\n",
       "      <td>1.018495</td>\n",
       "      <td>4.10</td>\n",
       "      <td>16.30</td>\n",
       "      <td>0</td>\n",
       "    </tr>\n",
       "    <tr>\n",
       "      <th>4</th>\n",
       "      <td>1.617071</td>\n",
       "      <td>1.242961</td>\n",
       "      <td>5.76</td>\n",
       "      <td>21.05</td>\n",
       "      <td>0</td>\n",
       "    </tr>\n",
       "    <tr>\n",
       "      <th>...</th>\n",
       "      <td>...</td>\n",
       "      <td>...</td>\n",
       "      <td>...</td>\n",
       "      <td>...</td>\n",
       "      <td>...</td>\n",
       "    </tr>\n",
       "    <tr>\n",
       "      <th>119</th>\n",
       "      <td>4.093525</td>\n",
       "      <td>3.037288</td>\n",
       "      <td>3.97</td>\n",
       "      <td>5.35</td>\n",
       "      <td>2</td>\n",
       "    </tr>\n",
       "    <tr>\n",
       "      <th>120</th>\n",
       "      <td>4.730000</td>\n",
       "      <td>3.040000</td>\n",
       "      <td>7.04</td>\n",
       "      <td>14.44</td>\n",
       "      <td>2</td>\n",
       "    </tr>\n",
       "    <tr>\n",
       "      <th>121</th>\n",
       "      <td>4.010000</td>\n",
       "      <td>4.110000</td>\n",
       "      <td>6.65</td>\n",
       "      <td>17.37</td>\n",
       "      <td>2</td>\n",
       "    </tr>\n",
       "    <tr>\n",
       "      <th>122</th>\n",
       "      <td>3.200000</td>\n",
       "      <td>2.360000</td>\n",
       "      <td>6.70</td>\n",
       "      <td>10.57</td>\n",
       "      <td>2</td>\n",
       "    </tr>\n",
       "    <tr>\n",
       "      <th>123</th>\n",
       "      <td>3.885714</td>\n",
       "      <td>2.403073</td>\n",
       "      <td>6.61</td>\n",
       "      <td>14.30</td>\n",
       "      <td>2</td>\n",
       "    </tr>\n",
       "  </tbody>\n",
       "</table>\n",
       "<p>124 rows × 5 columns</p>\n",
       "</div>"
      ],
      "text/plain": [
       "        AF365     AF450  35 deg  42 deg  Grupo\n",
       "0    2.320158  1.229614   13.01   19.39      0\n",
       "1    1.529274  0.616514    8.18   24.78      0\n",
       "2    1.908257  0.955847    7.75   16.90      0\n",
       "3    1.590625  1.018495    4.10   16.30      0\n",
       "4    1.617071  1.242961    5.76   21.05      0\n",
       "..        ...       ...     ...     ...    ...\n",
       "119  4.093525  3.037288    3.97    5.35      2\n",
       "120  4.730000  3.040000    7.04   14.44      2\n",
       "121  4.010000  4.110000    6.65   17.37      2\n",
       "122  3.200000  2.360000    6.70   10.57      2\n",
       "123  3.885714  2.403073    6.61   14.30      2\n",
       "\n",
       "[124 rows x 5 columns]"
      ]
     },
     "execution_count": 2,
     "metadata": {},
     "output_type": "execute_result"
    }
   ],
   "source": [
    "# Ruta del fichero del dataset sin filtrar\n",
    "path = '../datos/datos.csv'\n",
    "\n",
    "# Cargar el dataset\n",
    "datos = pd.read_csv(path)\n",
    "\n",
    "# Al ser un dataset pequeño se muestra completo\n",
    "datos"
   ]
  },
  {
   "cell_type": "code",
   "execution_count": 3,
   "id": "7d4f21c0",
   "metadata": {},
   "outputs": [
    {
     "data": {
      "text/plain": [
       "1    62\n",
       "0    48\n",
       "2    14\n",
       "Name: Grupo, dtype: int64"
      ]
     },
     "execution_count": 3,
     "metadata": {},
     "output_type": "execute_result"
    }
   ],
   "source": [
    "# Contar el número de instancias de cada grupo\n",
    "datos['Grupo'].value_counts()"
   ]
  },
  {
   "cell_type": "markdown",
   "id": "02f716f6",
   "metadata": {},
   "source": [
    "## Preparar conjuntos de entrenamiento (80%) y test (20%)"
   ]
  },
  {
   "cell_type": "code",
   "execution_count": 4,
   "id": "9fc8f7bc",
   "metadata": {},
   "outputs": [],
   "source": [
    "# Se separa la variable a predecir (Grupo)\n",
    "X = datos.drop('Grupo', axis=1)\n",
    "y = datos['Grupo']"
   ]
  },
  {
   "cell_type": "code",
   "execution_count": 5,
   "id": "793c7098",
   "metadata": {},
   "outputs": [],
   "source": [
    "# Importar librería de scikit-learn para separar los datos\n",
    "from sklearn.model_selection import train_test_split\n",
    "\n",
    "# Separar datos en conjunto de entrenamiento (80%) y test (20%) de manera estratificada\n",
    "X_train, X_test, y_train, y_test = train_test_split(X,\n",
    "                                                    y,\n",
    "                                                    test_size=0.2,\n",
    "                                                    shuffle=True,\n",
    "                                                    stratify=y,\n",
    "                                                    random_state=semilla)"
   ]
  },
  {
   "cell_type": "code",
   "execution_count": 6,
   "id": "34696ba5",
   "metadata": {},
   "outputs": [
    {
     "name": "stdout",
     "output_type": "stream",
     "text": [
      "Training Features Shape: (99, 4)\n",
      "Training Labels Shape: (99,)\n",
      "Testing Features Shape: (25, 4)\n",
      "Testing Labels Shape: (25,)\n"
     ]
    }
   ],
   "source": [
    "# Visualizar la dimensión de los datos separados\n",
    "print('Training Features Shape:', X_train.shape)\n",
    "print('Training Labels Shape:', y_train.shape)\n",
    "print('Testing Features Shape:', X_test.shape)\n",
    "print('Testing Labels Shape:', y_test.shape)"
   ]
  },
  {
   "cell_type": "code",
   "execution_count": 7,
   "id": "4f900cab",
   "metadata": {},
   "outputs": [
    {
     "data": {
      "text/plain": [
       "1    50\n",
       "0    38\n",
       "2    11\n",
       "Name: Grupo, dtype: int64"
      ]
     },
     "execution_count": 7,
     "metadata": {},
     "output_type": "execute_result"
    }
   ],
   "source": [
    "# Distribución de los grupos en el conjunto de entrenamiento\n",
    "y_train.value_counts()"
   ]
  },
  {
   "cell_type": "code",
   "execution_count": 8,
   "id": "5c1cd37d",
   "metadata": {},
   "outputs": [
    {
     "data": {
      "text/plain": [
       "1    0.505051\n",
       "0    0.383838\n",
       "2    0.111111\n",
       "Name: Grupo, dtype: float64"
      ]
     },
     "execution_count": 8,
     "metadata": {},
     "output_type": "execute_result"
    }
   ],
   "source": [
    "# Valores normalizados\n",
    "y_train.value_counts(normalize=True)"
   ]
  },
  {
   "cell_type": "code",
   "execution_count": 9,
   "id": "09a26af2",
   "metadata": {},
   "outputs": [
    {
     "data": {
      "text/plain": [
       "1    12\n",
       "0    10\n",
       "2     3\n",
       "Name: Grupo, dtype: int64"
      ]
     },
     "execution_count": 9,
     "metadata": {},
     "output_type": "execute_result"
    }
   ],
   "source": [
    "# Distribución de los grupos en el conjunto de test\n",
    "y_test.value_counts()"
   ]
  },
  {
   "cell_type": "code",
   "execution_count": 10,
   "id": "2f3bd577",
   "metadata": {},
   "outputs": [
    {
     "data": {
      "text/plain": [
       "1    0.48\n",
       "0    0.40\n",
       "2    0.12\n",
       "Name: Grupo, dtype: float64"
      ]
     },
     "execution_count": 10,
     "metadata": {},
     "output_type": "execute_result"
    }
   ],
   "source": [
    "# Valores normalizados\n",
    "y_test.value_counts(normalize=True)"
   ]
  },
  {
   "cell_type": "markdown",
   "id": "c55e6fd7",
   "metadata": {},
   "source": [
    "### Visualizar distribución de cada conjunto (entrenamiento y test)"
   ]
  },
  {
   "cell_type": "code",
   "execution_count": 11,
   "id": "b0da9540",
   "metadata": {},
   "outputs": [
    {
     "data": {
      "image/png": "[encoded data removed]",
      "text/plain": [
       "<Figure size 1080x360 with 2 Axes>"
      ]
     },
     "metadata": {
      "needs_background": "light"
     },
     "output_type": "display_data"
    }
   ],
   "source": [
    "import matplotlib.pyplot as plt\n",
    "\n",
    "fig = plt.figure(figsize=(15,5))\n",
    "\n",
    "#fig.suptitle(\"Distribución de los grupos en los conjuntos de entrenamiento y test\")\n",
    "\n",
    "# Representación del conjunto de entrenamiento\n",
    "plt.subplot(121)\n",
    "y_train.value_counts().plot(kind='bar')\n",
    "plt.title('Distribución del conjunto de entrenamiento')\n",
    "plt.xlabel('Grupo')\n",
    "plt.xticks(rotation=0)\n",
    "\n",
    "# Representación del conjunto de test\n",
    "plt.subplot(122)\n",
    "y_test.value_counts().plot(kind='bar', color='seagreen')\n",
    "plt.title('Distribución del conjunto de test')\n",
    "plt.xlabel('Grupo')\n",
    "plt.xticks(rotation=0)\n",
    "\n",
    "plt.show()"
   ]
  },
  {
   "cell_type": "markdown",
   "id": "9c9bd050",
   "metadata": {},
   "source": [
    "---\n",
    "\n",
    "# 2. Crear el modelo"
   ]
  },
  {
   "cell_type": "code",
   "execution_count": 12,
   "id": "a0dbe10a",
   "metadata": {},
   "outputs": [],
   "source": [
    "from sklearn.naive_bayes import GaussianNB\n",
    "\n",
    "# Se crea el modelo\n",
    "modelo_nb = GaussianNB()"
   ]
  },
  {
   "cell_type": "code",
   "execution_count": 13,
   "id": "b56e6576",
   "metadata": {},
   "outputs": [
    {
     "data": {
      "text/plain": [
       "GaussianNB()"
      ]
     },
     "execution_count": 13,
     "metadata": {},
     "output_type": "execute_result"
    }
   ],
   "source": [
    "# Se entrena el modelo\n",
    "modelo_nb.fit(X_train, y_train)"
   ]
  },
  {
   "cell_type": "code",
   "execution_count": 14,
   "id": "099c7b70",
   "metadata": {},
   "outputs": [
    {
     "name": "stdout",
     "output_type": "stream",
     "text": [
      "0.8383838383838383\n"
     ]
    }
   ],
   "source": [
    "# Se visualiza la exactitud (accuracy) del entrenamiento para compararlo con el que se obtenga en la evaluación\n",
    "print(modelo_nb.score(X_train, y_train))"
   ]
  },
  {
   "cell_type": "markdown",
   "id": "43e38a29",
   "metadata": {},
   "source": [
    "---\n",
    "\n",
    "# 3. Evaluar el modelo"
   ]
  },
  {
   "cell_type": "code",
   "execution_count": 15,
   "id": "b93ca4fa",
   "metadata": {},
   "outputs": [],
   "source": [
    "# Se lleva a cabo la predicción para evaluar el modelo\n",
    "y_pred = modelo_nb.predict(X_test)"
   ]
  },
  {
   "cell_type": "code",
   "execution_count": 16,
   "id": "39f54714",
   "metadata": {},
   "outputs": [
    {
     "name": "stdout",
     "output_type": "stream",
     "text": [
      "[1 1 0 0 1 1 0 0 0 1 0 1 0 1 1 2 1 1 0 2 0 1 0 1 1]\n"
     ]
    }
   ],
   "source": [
    "# Visualización de las predicciones\n",
    "print(y_pred)"
   ]
  },
  {
   "cell_type": "markdown",
   "id": "8e06555b",
   "metadata": {},
   "source": [
    "## Matriz de confusión"
   ]
  },
  {
   "cell_type": "code",
   "execution_count": 17,
   "id": "8d4f5577",
   "metadata": {},
   "outputs": [
    {
     "data": {
      "image/png": "[encoded data removed]",
      "text/plain": [
       "<Figure size 432x288 with 1 Axes>"
      ]
     },
     "metadata": {
      "needs_background": "light"
     },
     "output_type": "display_data"
    }
   ],
   "source": [
    "from sklearn.metrics import confusion_matrix, ConfusionMatrixDisplay, classification_report\n",
    "\n",
    "cm = confusion_matrix(y_test, y_pred)\n",
    "# Filas: valores reales\n",
    "# Columnas: predicción\n",
    "\n",
    "clases = ['Control', 'Diabetes 1', 'Diabetes 2']\n",
    "\n",
    "# Visualización de la matriz de confusión\n",
    "disp = ConfusionMatrixDisplay(confusion_matrix=cm, display_labels=clases)\n",
    "\n",
    "disp.plot(cmap='Blues', colorbar=False)\n",
    "plt.show()"
   ]
  },
  {
   "cell_type": "markdown",
   "id": "e2776884",
   "metadata": {},
   "source": [
    "## Classification report"
   ]
  },
  {
   "cell_type": "code",
   "execution_count": 18,
   "id": "5ab61a46",
   "metadata": {},
   "outputs": [
    {
     "name": "stdout",
     "output_type": "stream",
     "text": [
      "              precision    recall  f1-score   support\n",
      "\n",
      "     Control     0.9000    0.9000    0.9000        10\n",
      "  Diabetes 1     0.7692    0.8333    0.8000        12\n",
      "  Diabetes 2     0.5000    0.3333    0.4000         3\n",
      "\n",
      "    accuracy                         0.8000        25\n",
      "   macro avg     0.7231    0.6889    0.7000        25\n",
      "weighted avg     0.7892    0.8000    0.7920        25\n",
      "\n"
     ]
    }
   ],
   "source": [
    "clases = ['Control', 'Diabetes 1', 'Diabetes 2']\n",
    "\n",
    "print(classification_report(y_test,\n",
    "                            y_pred,\n",
    "                            target_names=clases,\n",
    "                            digits=4,\n",
    "                            zero_division=0))\n",
    "\n",
    "# El parámetro zero_division no muestra warnings cuando se vaya a realizar una división por 0 al calcular alguna métrica"
   ]
  },
  {
   "cell_type": "markdown",
   "id": "ef8290b1",
   "metadata": {},
   "source": [
    "Se calcula la __especificidad__ a partir de la clase _multilabel_confusion_matrix_. Se van a obtener también el resto de métricas con las obtenidas en el _classification report_ para comprobar que son correctas.\n",
    "\n",
    "Código basado en la documentación de scikit-learn: https://scikit-learn.org/stable/modules/model_evaluation.html#multilabel-confusion-matrix"
   ]
  },
  {
   "cell_type": "code",
   "execution_count": 19,
   "id": "4c041445",
   "metadata": {},
   "outputs": [
    {
     "name": "stdout",
     "output_type": "stream",
     "text": [
      "----------------------\n",
      "Exactitud: \t0.8000\n",
      "----------------------\n",
      "\n",
      "----------------------\n",
      "      Precisión       \n",
      "----------------------\n",
      "Control: \t0.9000\n",
      "Diabetes 1: \t0.7692\n",
      "Diabetes 2: \t0.5000\n",
      "MACRO AVG: \t0.7231\n",
      "\n",
      "----------------------\n",
      "     Sensibilidad     \n",
      "----------------------\n",
      "Control: \t0.9000\n",
      "Diabetes 1: \t0.8333\n",
      "Diabetes 2: \t0.3333\n",
      "MACRO AVG: \t0.6889\n",
      "\n",
      "----------------------\n",
      "    Especificidad     \n",
      "----------------------\n",
      "Control: \t0.9333\n",
      "Diabetes 1: \t0.7692\n",
      "Diabetes 2: \t0.9545\n",
      "MACRO AVG: \t0.8857\n",
      "\n",
      "----------------------\n",
      "       F1-score       \n",
      "----------------------\n",
      "Control: \t0.9000\n",
      "Diabetes 1: \t0.8000\n",
      "Diabetes 2: \t0.4000\n",
      "MACRO AVG: \t0.7000\n",
      "\n"
     ]
    }
   ],
   "source": [
    "from sklearn.metrics import multilabel_confusion_matrix, accuracy_score\n",
    "\n",
    "# Se obtiene la matriz de confusión de cada clase\n",
    "cm_multi = multilabel_confusion_matrix(y_test, y_pred)\n",
    "\n",
    "# Se obtienen los valores de TN, TP, FN y FP de cada clase\n",
    "tn = cm_multi[:, 0, 0]\n",
    "tp = cm_multi[:, 1, 1]\n",
    "fn = cm_multi[:, 1, 0]\n",
    "fp = cm_multi[:, 0, 1]\n",
    "\n",
    "# Se calculan las métricas (array de dimensión 3 con la métrica para cada clase)\n",
    "accuracy    = accuracy_score(y_test, y_pred)\n",
    "precision   = tp / (tp + fp)\n",
    "recall      = tp / (tp + fn)\n",
    "specificity = tn / (tn + fp)\n",
    "f1          = (2 * precision * recall) / (precision + recall)\n",
    "\n",
    "# Visualizar la exactitud del modelo\n",
    "print(\"----------------------\")\n",
    "print(\"Exactitud: \\t{:.4f}\".format(accuracy))\n",
    "print(\"----------------------\")\n",
    "print(\"\")\n",
    "\n",
    "# Visualizar la métrica precision para cada clase y la global (macro avg)\n",
    "print(\"----------------------\")\n",
    "print(\"      Precisión       \")\n",
    "print(\"----------------------\")\n",
    "print(\"Control: \\t{:.4f}\".format(precision[0]))\n",
    "print(\"Diabetes 1: \\t{:.4f}\".format(precision[1]))\n",
    "print(\"Diabetes 2: \\t{:.4f}\".format(precision[2]))\n",
    "print(\"MACRO AVG: \\t{:.4f}\".format(precision.mean()))\n",
    "print(\"\")\n",
    "\n",
    "# Visualizar la sensibilidad para cada clase y la global (macro avg)\n",
    "print(\"----------------------\")\n",
    "print(\"     Sensibilidad     \")\n",
    "print(\"----------------------\")\n",
    "print(\"Control: \\t{:.4f}\".format(recall[0]))\n",
    "print(\"Diabetes 1: \\t{:.4f}\".format(recall[1]))\n",
    "print(\"Diabetes 2: \\t{:.4f}\".format(recall[2]))\n",
    "print(\"MACRO AVG: \\t{:.4f}\".format(recall.mean()))\n",
    "print(\"\")\n",
    "\n",
    "# Visualizar la especificidad para cada clase y la global (macro avg)\n",
    "print(\"----------------------\")\n",
    "print(\"    Especificidad     \")\n",
    "print(\"----------------------\")\n",
    "print(\"Control: \\t{:.4f}\".format(specificity[0]))\n",
    "print(\"Diabetes 1: \\t{:.4f}\".format(specificity[1]))\n",
    "print(\"Diabetes 2: \\t{:.4f}\".format(specificity[2]))\n",
    "print(\"MACRO AVG: \\t{:.4f}\".format(specificity.mean()))\n",
    "print(\"\")\n",
    "\n",
    "# Visualizar la mátrica F1 para cada clase y la global (macro avg)\n",
    "print(\"----------------------\")\n",
    "print(\"       F1-score       \")\n",
    "print(\"----------------------\")\n",
    "print(\"Control: \\t{:.4f}\".format(f1[0]))\n",
    "print(\"Diabetes 1: \\t{:.4f}\".format(f1[1]))\n",
    "print(\"Diabetes 2: \\t{:.4f}\".format(f1[2]))\n",
    "print(\"MACRO AVG: \\t{:.4f}\".format(f1.mean()))\n",
    "print(\"\")"
   ]
  }
 ],
 "metadata": {
  "kernelspec": {
   "display_name": "Python 3 (ipykernel)",
   "language": "python",
   "name": "python3"
  },
  "language_info": {
   "codemirror_mode": {
    "name": "ipython",
    "version": 3
   },
   "file_extension": ".py",
   "mimetype": "text/x-python",
   "name": "python",
   "nbconvert_exporter": "python",
   "pygments_lexer": "ipython3",
   "version": "3.8.11"
  }
 },
 "nbformat": 4,
 "nbformat_minor": 5
}
